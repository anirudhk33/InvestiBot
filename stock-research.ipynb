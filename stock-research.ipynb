{
 "cells": [
  {
   "cell_type": "markdown",
   "metadata": {},
   "source": [
    "### Stock Market Crawler: Yahoo Finance"
   ]
  },
  {
   "cell_type": "code",
   "execution_count": 78,
   "metadata": {},
   "outputs": [],
   "source": [
    "from transformers import PegasusTokenizer, PegasusForConditionalGeneration\n",
    "from bs4 import BeautifulSoup\n",
    "import requests\n",
    "import os\n",
    "from transformers import pipeline\n",
    "import re\n",
    "import csv"
   ]
  },
  {
   "cell_type": "code",
   "execution_count": 79,
   "metadata": {},
   "outputs": [],
   "source": [
    "os.environ[\"HF_MIRROR\"] = \"https://huggingface.co/mirrors\"  # Using different mirror URL to escape bugs"
   ]
  },
  {
   "cell_type": "code",
   "execution_count": 80,
   "metadata": {},
   "outputs": [
    {
     "name": "stderr",
     "output_type": "stream",
     "text": [
      "Some weights of PegasusForConditionalGeneration were not initialized from the model checkpoint at human-centered-summarization/financial-summarization-pegasus and are newly initialized: ['model.encoder.embed_positions.weight', 'model.decoder.embed_positions.weight']\n",
      "You should probably TRAIN this model on a down-stream task to be able to use it for predictions and inference.\n"
     ]
    }
   ],
   "source": [
    "# Defining Model\n",
    "name = \"human-centered-summarization/financial-summarization-pegasus\"\n",
    "tokenizer = PegasusTokenizer.from_pretrained(name)\n",
    "model = PegasusForConditionalGeneration.from_pretrained(name)"
   ]
  },
  {
   "cell_type": "code",
   "execution_count": 81,
   "metadata": {},
   "outputs": [],
   "source": [
    "url = \"https://finance.yahoo.com/news/term-labs-launches-fixed-rate-130117305.html\"\n",
    "r = requests.get(url)\n",
    "soup = BeautifulSoup(r.text, 'html.parser')\n",
    "paragraphs = soup.find_all('p')\n"
   ]
  },
  {
   "cell_type": "code",
   "execution_count": 82,
   "metadata": {},
   "outputs": [
    {
     "name": "stdout",
     "output_type": "stream",
     "text": [
      "No. of Paragraphs: 14\n",
      "<p><span>The Term team channeled the U.S. Treasury for inspiration, specifically its auction calendar model, which matches borrowers and lenders who have set predetermined rates. The collateral is then locked up in a <span class=\"link\"><a class=\"link\" data-ylk=\"slk:smart contract;elm:context_link;itc:0\" href=\"https://decrypt.co/resources/smart-contracts\" rel=\"nofollow noopener\" target=\"_blank\">smart contract</a></span> for the duration of the auction, aka the loan’s term. </span></p>\n"
     ]
    }
   ],
   "source": [
    "print(\"No. of Paragraphs:\", len(paragraphs))\n",
    "print(paragraphs[3])"
   ]
  },
  {
   "cell_type": "code",
   "execution_count": 83,
   "metadata": {},
   "outputs": [
    {
     "data": {
      "text/plain": [
       "'Term Labs today launches its fixed-rate lending protocol on Ethereum. Term Finance is a milestone towards the development of a more mature crypto market, one with rules more familiar to TradFi lenders and borrowers than current Decentralized Finance (DeFi) protocols.  Variable rates are the current rule in DeFi, making it riskier for large professional portfolios to get on board. Interest rates on protocols like Aave and Compound are calculated according to supply and demand. So, if a crypto whale deposits a boatload of funds into a lending pool, rates across the board will plummet in accordance with the abundance of supply, and vice versa.  The Term team channeled the U.S. Treasury for inspiration, specifically its auction calendar model, which matches borrowers and lenders who have set predetermined rates. The collateral is then locked up in a smart contract for the duration of the auction, aka the loan’s term.  Tether Reports $850 Million Q2 Profit, $72 Billion Exposure to US Treasuries Term Finance promises zero slippage—an occurrence where the expected price of a trade is different from the final price after the trade has been executed. It also promises no spread, which is when two listed prices (commonly buy and sell) are different.  In addition, the team hopes investors and traders will be lured by low fees and high-quality blue chip collateral like Bitcoin, Ethereum, and stablecoins by Circle and Tether  Back in February, Term Labs raised $2.5 million to build the lending platform. The funding round was led by Electric Capital and included contributions from Coinbase Ventures, Circle Ventures, Robot Ventures, and Mexc Ventures.  Billy Welch, Term Labs’ co-founder confirmed with Decrypt that Term Finance will branch out into other blockchains and layer-2 solutions “shortly after” the first launch on Ethereum. While no dates were given, Welch said the protocol “will be multi-chain soon.” The “most popular” lending and borrowing activities among the 2,000 testnet users and private mainnet beta was, according to Welch, borrowing stablecoins against liquid staking tokens (LSTs), in particular Lido Finance’s wrapped stETH.  People also borrowed Tether against USDC “as the borrowing rate on Tether can be very volatile” and, Welch says, borrowing ETH against LSTs will be a popular transaction “to enhance staking yields.”  Why Ethereum Bulls Are Turning to LSD The shortest duration of loan will be four weeks, but Welch envisions the 1- and 3-month'"
      ]
     },
     "execution_count": 83,
     "metadata": {},
     "output_type": "execute_result"
    }
   ],
   "source": [
    "text = [paragraph.text for paragraph in paragraphs]\n",
    "words = ' '.join(text).split(' ')[:400]\n",
    "full_article = ' '.join(words)\n",
    "full_article"
   ]
  },
  {
   "cell_type": "code",
   "execution_count": 84,
   "metadata": {},
   "outputs": [
    {
     "data": {
      "text/plain": [
       "'Term Finance’s auction calendar model matches borrowers and lenders. Co-founder says platform will be multi-chain soon'"
      ]
     },
     "execution_count": 84,
     "metadata": {},
     "output_type": "execute_result"
    }
   ],
   "source": [
    "# Tokenization and summary generation\n",
    "input_ids = tokenizer.encode(full_article, return_tensors='pt')\n",
    "generation = model.generate(input_ids, max_length=55, num_beams=5, early_stopping=True)\n",
    "summary = tokenizer.decode(generation[0], skip_special_tokens=True)\n",
    "summary"
   ]
  },
  {
   "cell_type": "markdown",
   "metadata": {},
   "source": [
    "### Pipeline"
   ]
  },
  {
   "cell_type": "code",
   "execution_count": 85,
   "metadata": {},
   "outputs": [],
   "source": [
    "stock_tickers = ['PFE', 'TSLA', 'BTC', 'ZI']"
   ]
  },
  {
   "cell_type": "code",
   "execution_count": 86,
   "metadata": {},
   "outputs": [],
   "source": [
    "def crawl_to_retrieve_urls(ticker):\n",
    "    search_url = \"https://www.google.com/search?q=yahoo+finance+{}&tbm=nws\".format(ticker)\n",
    "    r = requests.get(search_url)\n",
    "    soup = BeautifulSoup(r.text, 'html.parser')\n",
    "    atags = soup.find_all('a')\n",
    "    hrefs = [link['href'] for link in atags]\n",
    "    return hrefs "
   ]
  },
  {
   "cell_type": "code",
   "execution_count": 87,
   "metadata": {},
   "outputs": [
    {
     "data": {
      "text/plain": [
       "{'PFE': ['/?sa=X&ved=0ahUKEwj-3fHCiLyAAxWAb2wGHZjpCTIQOwgC',\n",
       "  '/search?q=yahoo+finance+PFE&tbm=nws&ie=UTF-8&gbv=1&sei=xEvJZP7rE4DfseMPmNOnkAM',\n",
       "  '/search?q=yahoo+finance+PFE&ie=UTF-8&source=lnms&sa=X&ved=0ahUKEwj-3fHCiLyAAxWAb2wGHZjpCTIQ_AUIBSgA',\n",
       "  '/search?q=yahoo+finance+PFE&ie=UTF-8&tbm=vid&source=lnms&sa=X&ved=0ahUKEwj-3fHCiLyAAxWAb2wGHZjpCTIQ_AUIBygC',\n",
       "  '/search?q=yahoo+finance+PFE&ie=UTF-8&tbm=isch&source=lnms&sa=X&ved=0ahUKEwj-3fHCiLyAAxWAb2wGHZjpCTIQ_AUICCgD',\n",
       "  'https://maps.google.com/maps?q=yahoo+finance+PFE&um=1&ie=UTF-8&sa=X&ved=0ahUKEwj-3fHCiLyAAxWAb2wGHZjpCTIQ_AUICSgE',\n",
       "  '/search?q=yahoo+finance+PFE&ie=UTF-8&tbm=shop&source=lnms&sa=X&ved=0ahUKEwj-3fHCiLyAAxWAb2wGHZjpCTIQ_AUICigF',\n",
       "  '/search?q=yahoo+finance+PFE&ie=UTF-8&tbm=bks&source=lnms&sa=X&ved=0ahUKEwj-3fHCiLyAAxWAb2wGHZjpCTIQ_AUICygG',\n",
       "  '/advanced_search',\n",
       "  '/search?q=yahoo+finance+PFE&ie=UTF-8&tbm=nws&source=lnt&tbs=qdr:h&sa=X&ved=0ahUKEwj-3fHCiLyAAxWAb2wGHZjpCTIQpwUIDQ',\n",
       "  '/search?q=yahoo+finance+PFE&ie=UTF-8&tbm=nws&source=lnt&tbs=qdr:d&sa=X&ved=0ahUKEwj-3fHCiLyAAxWAb2wGHZjpCTIQpwUIDg',\n",
       "  '/search?q=yahoo+finance+PFE&ie=UTF-8&tbm=nws&source=lnt&tbs=qdr:w&sa=X&ved=0ahUKEwj-3fHCiLyAAxWAb2wGHZjpCTIQpwUIDw',\n",
       "  '/search?q=yahoo+finance+PFE&ie=UTF-8&tbm=nws&source=lnt&tbs=qdr:m&sa=X&ved=0ahUKEwj-3fHCiLyAAxWAb2wGHZjpCTIQpwUIEA',\n",
       "  '/search?q=yahoo+finance+PFE&ie=UTF-8&tbm=nws&source=lnt&tbs=qdr:y&sa=X&ved=0ahUKEwj-3fHCiLyAAxWAb2wGHZjpCTIQpwUIEQ',\n",
       "  '/search?q=yahoo+finance+PFE&ie=UTF-8&tbm=nws&source=lnt&tbs=ar:1&sa=X&ved=0ahUKEwj-3fHCiLyAAxWAb2wGHZjpCTIQpwUIEg',\n",
       "  '/search?q=yahoo+finance+PFE&ie=UTF-8&tbm=nws&source=lnt&tbs=sbd:1&sa=X&ved=0ahUKEwj-3fHCiLyAAxWAb2wGHZjpCTIQpwUIFA',\n",
       "  '/url?q=https://finance.yahoo.com/news/drug-biotech-stocks-q2-earnings-135800432.html&sa=U&ved=2ahUKEwj-3fHCiLyAAxWAb2wGHZjpCTIQxfQBegQICBAC&usg=AOvVaw3Cdh5uMt6CyNzs9T8wTfkq',\n",
       "  '/url?q=https://finance.yahoo.com/news/pfizer-q2-earnings-snapshot-105818783.html&sa=U&ved=2ahUKEwj-3fHCiLyAAxWAb2wGHZjpCTIQxfQBegQICRAC&usg=AOvVaw1-tAdBAzUyA45avl3XsnkZ',\n",
       "  '/url?q=https://finance.yahoo.com/news/earnings-preview-pfizer-pfe-q2-140133393.html&sa=U&ved=2ahUKEwj-3fHCiLyAAxWAb2wGHZjpCTIQxfQBegQIBBAC&usg=AOvVaw1SoywQysfVA43gx5DAOu-M',\n",
       "  '/url?q=https://finance.yahoo.com/news/stock-futures-droop-amid-mixed-earnings-after-blazing-july-stock-market-news-today-121511468.html&sa=U&ved=2ahUKEwj-3fHCiLyAAxWAb2wGHZjpCTIQxfQBegQIBxAC&usg=AOvVaw0liKnqpkoc078tE3mqxho8',\n",
       "  '/url?q=https://finance.yahoo.com/news/earn-500-month-pfizer-stock-120100836.html&sa=U&ved=2ahUKEwj-3fHCiLyAAxWAb2wGHZjpCTIQxfQBegQIARAC&usg=AOvVaw1a1hu09bQSXWKjZTLBrVG2',\n",
       "  '/url?q=https://finance.yahoo.com/news/arvinas-pfizer-awarded-innovation-passport-203000619.html&sa=U&ved=2ahUKEwj-3fHCiLyAAxWAb2wGHZjpCTIQxfQBegQIAxAC&usg=AOvVaw2FuEJfwvcNDujUcraKh_5j',\n",
       "  '/url?q=https://finance.yahoo.com/news/10-best-small-cap-pharma-185609107.html&sa=U&ved=2ahUKEwj-3fHCiLyAAxWAb2wGHZjpCTIQxfQBegQIBhAC&usg=AOvVaw2LKeS4JzdfuR_VzDr1_Kd1',\n",
       "  '/url?q=https://finance.yahoo.com/news/caribou-biosciences-announces-25-million-120000433.html&sa=U&ved=2ahUKEwj-3fHCiLyAAxWAb2wGHZjpCTIQxfQBegQIBRAC&usg=AOvVaw1VyGvt9IdxA8sJHH3JXIsS',\n",
       "  '/url?q=https://finance.yahoo.com/news/pfizer-announces-executive-leadership-advance-104500957.html&sa=U&ved=2ahUKEwj-3fHCiLyAAxWAb2wGHZjpCTIQxfQBegQIABAC&usg=AOvVaw3TWO9kXeeQQ0pn0mkOvzKf',\n",
       "  '/url?q=https://finance.yahoo.com/news/caribou-biosciences-raises-125m-via-152759589.html&sa=U&ved=2ahUKEwj-3fHCiLyAAxWAb2wGHZjpCTIQxfQBegQIAhAC&usg=AOvVaw2ITbTh2kXoYKX-R2ccIwMz',\n",
       "  '/search?q=yahoo+finance+PFE&ie=UTF-8&tbm=nws&ei=xEvJZP7rE4DfseMPmNOnkAM&start=10&sa=N',\n",
       "  '/url?q=https://support.google.com/websearch%3Fp%3Dws_settings_location%26hl%3Den-IN&sa=U&ved=0ahUKEwj-3fHCiLyAAxWAb2wGHZjpCTIQty4IUw&usg=AOvVaw1rj0PH925kw2Um_yUDgIpm',\n",
       "  '/url?q=https://accounts.google.com/ServiceLogin%3Fcontinue%3Dhttps://www.google.com/search%253Fq%253Dyahoo%252Bfinance%252BPFE%2526tbm%253Dnws%26hl%3Den&sa=U&ved=0ahUKEwj-3fHCiLyAAxWAb2wGHZjpCTIQxs8CCFQ&usg=AOvVaw39YFidZrU21Y6vSbGu9Dl2',\n",
       "  'https://www.google.com/preferences?hl=en-IN&fg=1&sa=X&ved=0ahUKEwj-3fHCiLyAAxWAb2wGHZjpCTIQ5fUCCFU',\n",
       "  'https://policies.google.com/privacy?hl=en-IN&fg=1',\n",
       "  'https://policies.google.com/terms?hl=en-IN&fg=1',\n",
       "  '/setprefs?hl=en&prev=https://www.google.com/search?q%3Dyahoo%2Bfinance%2BPFE%26tbm%3Dnws%26pccc%3D1&sig=0_6Jz4g4vcO3NOU0ZwVRxTjOfKQAk%3D&cs=2&sa=X&ved=0ahUKEwj-3fHCiLyAAxWAb2wGHZjpCTIQjcAJCFY'],\n",
       " 'TSLA': ['/?sa=X&ved=0ahUKEwi2oaXDiLyAAxXsTWwGHQIJAf8QOwgC',\n",
       "  '/search?q=yahoo+finance+TSLA&tbm=nws&ie=UTF-8&gbv=1&sei=xUvJZPaqCuybseMPgpKE-A8',\n",
       "  '/search?q=yahoo+finance+TSLA&ie=UTF-8&source=lnms&sa=X&ved=0ahUKEwi2oaXDiLyAAxXsTWwGHQIJAf8Q_AUIBSgA',\n",
       "  '/search?q=yahoo+finance+TSLA&ie=UTF-8&tbm=vid&source=lnms&sa=X&ved=0ahUKEwi2oaXDiLyAAxXsTWwGHQIJAf8Q_AUIBygC',\n",
       "  '/search?q=yahoo+finance+TSLA&ie=UTF-8&tbm=isch&source=lnms&sa=X&ved=0ahUKEwi2oaXDiLyAAxXsTWwGHQIJAf8Q_AUICCgD',\n",
       "  'https://maps.google.com/maps?q=yahoo+finance+TSLA&um=1&ie=UTF-8&sa=X&ved=0ahUKEwi2oaXDiLyAAxXsTWwGHQIJAf8Q_AUICSgE',\n",
       "  '/search?q=yahoo+finance+TSLA&ie=UTF-8&tbm=shop&source=lnms&sa=X&ved=0ahUKEwi2oaXDiLyAAxXsTWwGHQIJAf8Q_AUICigF',\n",
       "  '/search?q=yahoo+finance+TSLA&ie=UTF-8&tbm=bks&source=lnms&sa=X&ved=0ahUKEwi2oaXDiLyAAxXsTWwGHQIJAf8Q_AUICygG',\n",
       "  '/advanced_search',\n",
       "  '/search?q=yahoo+finance+TSLA&ie=UTF-8&tbm=nws&source=lnt&tbs=qdr:h&sa=X&ved=0ahUKEwi2oaXDiLyAAxXsTWwGHQIJAf8QpwUIDQ',\n",
       "  '/search?q=yahoo+finance+TSLA&ie=UTF-8&tbm=nws&source=lnt&tbs=qdr:d&sa=X&ved=0ahUKEwi2oaXDiLyAAxXsTWwGHQIJAf8QpwUIDg',\n",
       "  '/search?q=yahoo+finance+TSLA&ie=UTF-8&tbm=nws&source=lnt&tbs=qdr:w&sa=X&ved=0ahUKEwi2oaXDiLyAAxXsTWwGHQIJAf8QpwUIDw',\n",
       "  '/search?q=yahoo+finance+TSLA&ie=UTF-8&tbm=nws&source=lnt&tbs=qdr:m&sa=X&ved=0ahUKEwi2oaXDiLyAAxXsTWwGHQIJAf8QpwUIEA',\n",
       "  '/search?q=yahoo+finance+TSLA&ie=UTF-8&tbm=nws&source=lnt&tbs=qdr:y&sa=X&ved=0ahUKEwi2oaXDiLyAAxXsTWwGHQIJAf8QpwUIEQ',\n",
       "  '/search?q=yahoo+finance+TSLA&ie=UTF-8&tbm=nws&source=lnt&tbs=ar:1&sa=X&ved=0ahUKEwi2oaXDiLyAAxXsTWwGHQIJAf8QpwUIEg',\n",
       "  '/search?q=yahoo+finance+TSLA&ie=UTF-8&tbm=nws&source=lnt&tbs=sbd:1&sa=X&ved=0ahUKEwi2oaXDiLyAAxXsTWwGHQIJAf8QpwUIFA',\n",
       "  '/url?q=https://www.barrons.com/articles/toyota-earnings-tesla-stock-df22231b&sa=U&ved=2ahUKEwi2oaXDiLyAAxXsTWwGHQIJAf8QxfQBegQIAhAC&usg=AOvVaw2qAqd64LOn2mqy64-TdLJH',\n",
       "  '/url?q=https://www.investors.com/news/tesla-china-rivals-nio-li-auto-xpeng-hot-streak-july-2023-ev-sales/&sa=U&ved=2ahUKEwi2oaXDiLyAAxXsTWwGHQIJAf8QxfQBegQICRAC&usg=AOvVaw3JIFNmG6gFbX3yD2y3DzoZ',\n",
       "  '/url?q=https://www.livemint.com/technology/gadgets/elon-musk-shares-a-photo-of-testa-phone-boasts-can-be-used-from-mars-11690906528131.html&sa=U&ved=2ahUKEwi2oaXDiLyAAxXsTWwGHQIJAf8QxfQBegQIARAC&usg=AOvVaw105xCaO1xTdk7ljlIYQvRS',\n",
       "  '/url?q=https://www.fool.com/investing/2023/07/31/prediction-this-ai-stock-will-be-1-of-the-top-5-la/&sa=U&ved=2ahUKEwi2oaXDiLyAAxXsTWwGHQIJAf8QxfQBegQIAxAC&usg=AOvVaw02H7HPhDWAdHquASWGdcVL',\n",
       "  '/url?q=https://auto.hindustantimes.com/auto/electric-vehicles/tesla-executives-discuss-india-entry-plans-with-countrys-invest-promotion-agency-know-more-41690777125027.html&sa=U&ved=2ahUKEwi2oaXDiLyAAxXsTWwGHQIJAf8QxfQBegQIBhAC&usg=AOvVaw17ir0rYZ9umioN5SS_i-vQ',\n",
       "  '/url?q=https://finance.yahoo.com/news/charlie-munger-calls-tesla-minor-151242552.html&sa=U&ved=2ahUKEwi2oaXDiLyAAxXsTWwGHQIJAf8QxfQBegQIBBAC&usg=AOvVaw0kXL6C-6WH8J8FWCOkDa-Q',\n",
       "  '/url?q=https://www.barrons.com/articles/nio-li-auto-xpeng-deliveries-tesla-stock-price-eeb6a5a4&sa=U&ved=2ahUKEwi2oaXDiLyAAxXsTWwGHQIJAf8QxfQBegQIABAC&usg=AOvVaw0HcM0z9I8PBn9Y64xKnV9U',\n",
       "  '/url?q=https://www.investors.com/market-trend/stock-market-today/dow-jones-futures-microsoft-tesla-stock-new-buy-points-big-earnings-movers/&sa=U&ved=2ahUKEwi2oaXDiLyAAxXsTWwGHQIJAf8QxfQBegQICBAC&usg=AOvVaw2DTFl7w89nLEqQR6PM_V6x',\n",
       "  '/url?q=https://www.moneycontrol.com/news/trends/elon-musk-shares-video-of-x-logo-atop-twitters-hq-in-san-francisco-11058791.html&sa=U&ved=2ahUKEwi2oaXDiLyAAxXsTWwGHQIJAf8QxfQBegQIBxAC&usg=AOvVaw00xsNjdvVE9sRB4KKDE5VL',\n",
       "  '/url?q=https://finbold.com/heres-the-average-tesla-stock-return-rate-for-august/&sa=U&ved=2ahUKEwi2oaXDiLyAAxXsTWwGHQIJAf8QxfQBegQIBRAC&usg=AOvVaw0LmWl8J1X4_3CM1fvMgaQ2',\n",
       "  '/search?q=yahoo+finance+TSLA&ie=UTF-8&tbm=nws&ei=xUvJZPaqCuybseMPgpKE-A8&start=10&sa=N',\n",
       "  '/url?q=https://support.google.com/websearch%3Fp%3Dws_settings_location%26hl%3Den-IN&sa=U&ved=0ahUKEwi2oaXDiLyAAxXsTWwGHQIJAf8Qty4IUw&usg=AOvVaw3qQWbHYoAkKNEr03Z2SCbM',\n",
       "  '/url?q=https://accounts.google.com/ServiceLogin%3Fcontinue%3Dhttps://www.google.com/search%253Fq%253Dyahoo%252Bfinance%252BTSLA%2526tbm%253Dnws%26hl%3Den&sa=U&ved=0ahUKEwi2oaXDiLyAAxXsTWwGHQIJAf8Qxs8CCFQ&usg=AOvVaw2yLYMaiSV2ri7kuzdIV7v7',\n",
       "  'https://www.google.com/preferences?hl=en-IN&fg=1&sa=X&ved=0ahUKEwi2oaXDiLyAAxXsTWwGHQIJAf8Q5fUCCFU',\n",
       "  'https://policies.google.com/privacy?hl=en-IN&fg=1',\n",
       "  'https://policies.google.com/terms?hl=en-IN&fg=1',\n",
       "  '/setprefs?hl=en&prev=https://www.google.com/search?q%3Dyahoo%2Bfinance%2BTSLA%26tbm%3Dnws%26pccc%3D1&sig=0_Qjl7qkHOf5Zd0xyfSwMKntYXtDA%3D&cs=2&sa=X&ved=0ahUKEwi2oaXDiLyAAxXsTWwGHQIJAf8QjcAJCFY'],\n",
       " 'BTC': ['/?sa=X&ved=0ahUKEwj0rtvDiLyAAxUabGwGHdk8AsAQOwgC',\n",
       "  '/search?q=yahoo+finance+BTC&tbm=nws&ie=UTF-8&gbv=1&sei=xkvJZPSzA5rYseMP2fmIgAw',\n",
       "  '/search?q=yahoo+finance+BTC&ie=UTF-8&source=lnms&sa=X&ved=0ahUKEwj0rtvDiLyAAxUabGwGHdk8AsAQ_AUIBSgA',\n",
       "  '/search?q=yahoo+finance+BTC&ie=UTF-8&tbm=isch&source=lnms&sa=X&ved=0ahUKEwj0rtvDiLyAAxUabGwGHdk8AsAQ_AUIBygC',\n",
       "  '/search?q=yahoo+finance+BTC&ie=UTF-8&tbm=vid&source=lnms&sa=X&ved=0ahUKEwj0rtvDiLyAAxUabGwGHdk8AsAQ_AUICCgD',\n",
       "  'https://maps.google.com/maps?q=yahoo+finance+BTC&um=1&ie=UTF-8&sa=X&ved=0ahUKEwj0rtvDiLyAAxUabGwGHdk8AsAQ_AUICSgE',\n",
       "  '/search?q=yahoo+finance+BTC&ie=UTF-8&tbm=shop&source=lnms&sa=X&ved=0ahUKEwj0rtvDiLyAAxUabGwGHdk8AsAQ_AUICigF',\n",
       "  '/search?q=yahoo+finance+BTC&ie=UTF-8&tbm=bks&source=lnms&sa=X&ved=0ahUKEwj0rtvDiLyAAxUabGwGHdk8AsAQ_AUICygG',\n",
       "  '/advanced_search',\n",
       "  '/search?q=yahoo+finance+BTC&ie=UTF-8&tbm=nws&source=lnt&tbs=qdr:h&sa=X&ved=0ahUKEwj0rtvDiLyAAxUabGwGHdk8AsAQpwUIDQ',\n",
       "  '/search?q=yahoo+finance+BTC&ie=UTF-8&tbm=nws&source=lnt&tbs=qdr:d&sa=X&ved=0ahUKEwj0rtvDiLyAAxUabGwGHdk8AsAQpwUIDg',\n",
       "  '/search?q=yahoo+finance+BTC&ie=UTF-8&tbm=nws&source=lnt&tbs=qdr:w&sa=X&ved=0ahUKEwj0rtvDiLyAAxUabGwGHdk8AsAQpwUIDw',\n",
       "  '/search?q=yahoo+finance+BTC&ie=UTF-8&tbm=nws&source=lnt&tbs=qdr:m&sa=X&ved=0ahUKEwj0rtvDiLyAAxUabGwGHdk8AsAQpwUIEA',\n",
       "  '/search?q=yahoo+finance+BTC&ie=UTF-8&tbm=nws&source=lnt&tbs=qdr:y&sa=X&ved=0ahUKEwj0rtvDiLyAAxUabGwGHdk8AsAQpwUIEQ',\n",
       "  '/search?q=yahoo+finance+BTC&ie=UTF-8&tbm=nws&source=lnt&tbs=ar:1&sa=X&ved=0ahUKEwj0rtvDiLyAAxUabGwGHdk8AsAQpwUIEg',\n",
       "  '/search?q=yahoo+finance+BTC&ie=UTF-8&tbm=nws&source=lnt&tbs=sbd:1&sa=X&ved=0ahUKEwj0rtvDiLyAAxUabGwGHdk8AsAQpwUIFA',\n",
       "  '/url?q=https://finance.yahoo.com/news/human-rights-foundation-launches-bug-031658499.html&sa=U&ved=2ahUKEwj0rtvDiLyAAxUabGwGHdk8AsAQxfQBegQIBRAC&usg=AOvVaw0Uj4tuAh7O9jJSxKbiNcEU',\n",
       "  '/url?q=https://finance.yahoo.com/news/bitcoin-dips-below-29-2k-223459436.html&sa=U&ved=2ahUKEwj0rtvDiLyAAxUabGwGHdk8AsAQxfQBegQICRAC&usg=AOvVaw0uhBfu7DFx_zC42I26gx_Z',\n",
       "  '/url?q=https://finance.yahoo.com/news/bitcoin-ether-little-changed-market-014809631.html&sa=U&ved=2ahUKEwj0rtvDiLyAAxUabGwGHdk8AsAQxfQBegQIBhAC&usg=AOvVaw2KHKQZn1EVYvPkz8tOu0b7',\n",
       "  '/url?q=https://finance.yahoo.com/news/barbies-margot-robbie-bitcoin-says-154521696.html&sa=U&ved=2ahUKEwj0rtvDiLyAAxUabGwGHdk8AsAQxfQBegQIBBAC&usg=AOvVaw0qrX2aE5zRH5HqDFFoDgHg',\n",
       "  '/url?q=https://uk.investing.com/news/cryptocurrency-news/watch-barbie-star-margot-robbie-thinks-bitcoin-talk-is-typical-ken-behavior-3102298&sa=U&ved=2ahUKEwj0rtvDiLyAAxUabGwGHdk8AsAQxfQBegQIAxAC&usg=AOvVaw2ESAGTFSPoT9i0n_ZmkOpF',\n",
       "  '/url?q=https://finance.yahoo.com/news/leading-defi-protocol-btc-proxy-130000091.html&sa=U&ved=2ahUKEwj0rtvDiLyAAxUabGwGHdk8AsAQxfQBegQIABAC&usg=AOvVaw2g16cOG_uTM5T777-20tAZ',\n",
       "  '/url?q=https://finance.yahoo.com/news/sec-told-coinbase-stop-trading-045627668.html&sa=U&ved=2ahUKEwj0rtvDiLyAAxUabGwGHdk8AsAQxfQBegQIBxAC&usg=AOvVaw07FXXVkJKD33C6uIK_7Pta',\n",
       "  '/url?q=https://finance.yahoo.com/news/crypto-stocks-sag-after-us-judge-gives-new-boost-to-sec-174539890.html&sa=U&ved=2ahUKEwj0rtvDiLyAAxUabGwGHdk8AsAQxfQBegQIARAC&usg=AOvVaw0v2VjK8KkgjebYR8mANull',\n",
       "  '/url?q=https://finance.yahoo.com/news/bitcoin-dawdles-below-30k-investors-214640218.html&sa=U&ved=2ahUKEwj0rtvDiLyAAxUabGwGHdk8AsAQxfQBegQIAhAC&usg=AOvVaw2YP1CS9fUJG7r_IaFCfoJz',\n",
       "  '/url?q=https://finance.yahoo.com/news/bitcoin-ether-edge-fed-raises-015856136.html&sa=U&ved=2ahUKEwj0rtvDiLyAAxUabGwGHdk8AsAQxfQBegQICBAC&usg=AOvVaw2AUoF2PGokKGOF1jl5zaUq',\n",
       "  '/search?q=yahoo+finance+BTC&ie=UTF-8&tbm=nws&ei=xkvJZPSzA5rYseMP2fmIgAw&start=10&sa=N',\n",
       "  '/url?q=https://support.google.com/websearch%3Fp%3Dws_settings_location%26hl%3Den-IN&sa=U&ved=0ahUKEwj0rtvDiLyAAxUabGwGHdk8AsAQty4IUw&usg=AOvVaw3RfgwfzNssd5wgHfNQZ71q',\n",
       "  '/url?q=https://accounts.google.com/ServiceLogin%3Fcontinue%3Dhttps://www.google.com/search%253Fq%253Dyahoo%252Bfinance%252BBTC%2526tbm%253Dnws%26hl%3Den&sa=U&ved=0ahUKEwj0rtvDiLyAAxUabGwGHdk8AsAQxs8CCFQ&usg=AOvVaw30kmLSQtS0EoMBr7xUdBwE',\n",
       "  'https://www.google.com/preferences?hl=en-IN&fg=1&sa=X&ved=0ahUKEwj0rtvDiLyAAxUabGwGHdk8AsAQ5fUCCFU',\n",
       "  'https://policies.google.com/privacy?hl=en-IN&fg=1',\n",
       "  'https://policies.google.com/terms?hl=en-IN&fg=1',\n",
       "  '/setprefs?hl=en&prev=https://www.google.com/search?q%3Dyahoo%2Bfinance%2BBTC%26tbm%3Dnws%26pccc%3D1&sig=0_BF630kAQDT_F85-dffenyoM7rSo%3D&cs=2&sa=X&ved=0ahUKEwj0rtvDiLyAAxUabGwGHdk8AsAQjcAJCFY'],\n",
       " 'ZI': ['/?sa=X&ved=0ahUKEwj1kInEiLyAAxX9UGwGHaUaCi8QOwgC',\n",
       "  '/search?q=yahoo+finance+ZI&tbm=nws&ie=UTF-8&gbv=1&sei=xkvJZPWVMf2hseMPpbWo-AI',\n",
       "  '/search?q=yahoo+finance+ZI&ie=UTF-8&source=lnms&sa=X&ved=0ahUKEwj1kInEiLyAAxX9UGwGHaUaCi8Q_AUIBSgA',\n",
       "  '/search?q=yahoo+finance+ZI&ie=UTF-8&tbm=isch&source=lnms&sa=X&ved=0ahUKEwj1kInEiLyAAxX9UGwGHaUaCi8Q_AUIBygC',\n",
       "  '/search?q=yahoo+finance+ZI&ie=UTF-8&tbm=vid&source=lnms&sa=X&ved=0ahUKEwj1kInEiLyAAxX9UGwGHaUaCi8Q_AUICCgD',\n",
       "  'https://maps.google.com/maps?q=yahoo+finance+ZI&um=1&ie=UTF-8&sa=X&ved=0ahUKEwj1kInEiLyAAxX9UGwGHaUaCi8Q_AUICSgE',\n",
       "  '/search?q=yahoo+finance+ZI&ie=UTF-8&tbm=shop&source=lnms&sa=X&ved=0ahUKEwj1kInEiLyAAxX9UGwGHaUaCi8Q_AUICigF',\n",
       "  '/search?q=yahoo+finance+ZI&ie=UTF-8&tbm=bks&source=lnms&sa=X&ved=0ahUKEwj1kInEiLyAAxX9UGwGHaUaCi8Q_AUICygG',\n",
       "  '/advanced_search',\n",
       "  '/search?q=yahoo+finance+ZI&ie=UTF-8&tbm=nws&source=lnt&tbs=qdr:h&sa=X&ved=0ahUKEwj1kInEiLyAAxX9UGwGHaUaCi8QpwUIDQ',\n",
       "  '/search?q=yahoo+finance+ZI&ie=UTF-8&tbm=nws&source=lnt&tbs=qdr:d&sa=X&ved=0ahUKEwj1kInEiLyAAxX9UGwGHaUaCi8QpwUIDg',\n",
       "  '/search?q=yahoo+finance+ZI&ie=UTF-8&tbm=nws&source=lnt&tbs=qdr:w&sa=X&ved=0ahUKEwj1kInEiLyAAxX9UGwGHaUaCi8QpwUIDw',\n",
       "  '/search?q=yahoo+finance+ZI&ie=UTF-8&tbm=nws&source=lnt&tbs=qdr:m&sa=X&ved=0ahUKEwj1kInEiLyAAxX9UGwGHaUaCi8QpwUIEA',\n",
       "  '/search?q=yahoo+finance+ZI&ie=UTF-8&tbm=nws&source=lnt&tbs=qdr:y&sa=X&ved=0ahUKEwj1kInEiLyAAxX9UGwGHaUaCi8QpwUIEQ',\n",
       "  '/search?q=yahoo+finance+ZI&ie=UTF-8&tbm=nws&source=lnt&tbs=ar:1&sa=X&ved=0ahUKEwj1kInEiLyAAxX9UGwGHaUaCi8QpwUIEg',\n",
       "  '/search?q=yahoo+finance+ZI&ie=UTF-8&tbm=nws&source=lnt&tbs=sbd:1&sa=X&ved=0ahUKEwj1kInEiLyAAxX9UGwGHaUaCi8QpwUIFA',\n",
       "  '/url?q=https://finance.yahoo.com/news/65-ownership-shares-zoominfo-technologies-100712647.html&sa=U&ved=2ahUKEwj1kInEiLyAAxX9UGwGHaUaCi8QxfQBegQIAhAC&usg=AOvVaw09DOAaZTRb9cp4DqSjGD3t',\n",
       "  '/url?q=https://finance.yahoo.com/news/zoominfo-shares-fall-missing-revenue-162551893.html&sa=U&ved=2ahUKEwj1kInEiLyAAxX9UGwGHaUaCi8QxfQBegQICRAC&usg=AOvVaw05ujGo5g6fiW65epNt6ZCA',\n",
       "  '/url?q=https://finance.yahoo.com/news/time-consider-buying-adobe-inc-140022062.html&sa=U&ved=2ahUKEwj1kInEiLyAAxX9UGwGHaUaCi8QxfQBegQIBxAC&usg=AOvVaw14Sat-FIO0sTJYLxVF8aUi',\n",
       "  '/url?q=https://finance.yahoo.com/news/zacks-com-featured-highlights-lululemon-103100682.html&sa=U&ved=2ahUKEwj1kInEiLyAAxX9UGwGHaUaCi8QxfQBegQIBBAC&usg=AOvVaw1lKJR9zSn6Tin7avB64AQH',\n",
       "  '/url?q=https://finance.yahoo.com/news/paypal-holdings-pypl-fell-investors-094217062.html&sa=U&ved=2ahUKEwj1kInEiLyAAxX9UGwGHaUaCi8QxfQBegQIBhAC&usg=AOvVaw0U0hhdlrI8sZfZoEeKm4vw',\n",
       "  '/url?q=https://finance.yahoo.com/news/eur-usd-forecast-euro-continues-140005878.html&sa=U&ved=2ahUKEwj1kInEiLyAAxX9UGwGHaUaCi8QxfQBegQIAxAC&usg=AOvVaw3UX2puIKzDaLey7Jo7sS6h',\n",
       "  '/url?q=https://finance.yahoo.com/news/lemonade-announce-second-quarter-2023-180800471.html&sa=U&ved=2ahUKEwj1kInEiLyAAxX9UGwGHaUaCi8QxfQBegQIABAC&usg=AOvVaw2A7UpP5moS6VNkt5cF9CVc',\n",
       "  '/url?q=https://finance.yahoo.com/news/bitcoin-ether-edge-fed-raises-015856136.html&sa=U&ved=2ahUKEwj1kInEiLyAAxX9UGwGHaUaCi8QxfQBegQIARAC&usg=AOvVaw2AHWOwJ5LpNdR53fQa8BeL',\n",
       "  '/url?q=https://finance.yahoo.com/news/intercontinental-hotels-group-plc-announces-060000257.html&sa=U&ved=2ahUKEwj1kInEiLyAAxX9UGwGHaUaCi8QxfQBegQIBRAC&usg=AOvVaw3LjaLtguFrgbewdGDpIs6R',\n",
       "  '/url?q=https://finance.yahoo.com/news/analog-devices-invests-more-1-225500104.html&sa=U&ved=2ahUKEwj1kInEiLyAAxX9UGwGHaUaCi8QxfQBegQICBAC&usg=AOvVaw1zlG3lNU38G7M1NQlqQqXJ',\n",
       "  '/search?q=yahoo+finance+ZI&ie=UTF-8&tbm=nws&ei=xkvJZPWVMf2hseMPpbWo-AI&start=10&sa=N',\n",
       "  '/url?q=https://support.google.com/websearch%3Fp%3Dws_settings_location%26hl%3Den-IN&sa=U&ved=0ahUKEwj1kInEiLyAAxX9UGwGHaUaCi8Qty4IUw&usg=AOvVaw0Om89Cxd6NoPh_TF9YCR1v',\n",
       "  '/url?q=https://accounts.google.com/ServiceLogin%3Fcontinue%3Dhttps://www.google.com/search%253Fq%253Dyahoo%252Bfinance%252BZI%2526tbm%253Dnws%26hl%3Den&sa=U&ved=0ahUKEwj1kInEiLyAAxX9UGwGHaUaCi8Qxs8CCFQ&usg=AOvVaw2kDMg7EtrHd-Z_GxZa6gvz',\n",
       "  'https://www.google.com/preferences?hl=en-IN&fg=1&sa=X&ved=0ahUKEwj1kInEiLyAAxX9UGwGHaUaCi8Q5fUCCFU',\n",
       "  'https://policies.google.com/privacy?hl=en-IN&fg=1',\n",
       "  'https://policies.google.com/terms?hl=en-IN&fg=1',\n",
       "  '/setprefs?hl=en&prev=https://www.google.com/search?q%3Dyahoo%2Bfinance%2BZI%26tbm%3Dnws%26pccc%3D1&sig=0_ynhq03-nWjtKKLtn2m-SOC7vpdM%3D&cs=2&sa=X&ved=0ahUKEwj1kInEiLyAAxX9UGwGHaUaCi8QjcAJCFY']}"
      ]
     },
     "execution_count": 87,
     "metadata": {},
     "output_type": "execute_result"
    }
   ],
   "source": [
    "urls = {ticker:crawl_to_retrieve_urls(ticker) for ticker in stock_tickers}\n",
    "urls"
   ]
  },
  {
   "cell_type": "code",
   "execution_count": 88,
   "metadata": {},
   "outputs": [],
   "source": [
    "bad_words = ['preferences', 'accounts', 'support', 'maps', 'policies']"
   ]
  },
  {
   "cell_type": "code",
   "execution_count": 89,
   "metadata": {},
   "outputs": [],
   "source": [
    "def parse_urls(urls, bad_words):\n",
    "    val = []\n",
    "    for url in urls: \n",
    "        if 'https://' in url and not any(bad_word in url for bad_word in bad_words):\n",
    "            res = re.findall(r'(https?://\\S+)', url)[0].split('&')[0]\n",
    "            val.append(res)\n",
    "    return list(set(val))"
   ]
  },
  {
   "cell_type": "code",
   "execution_count": 90,
   "metadata": {},
   "outputs": [
    {
     "data": {
      "text/plain": [
       "{'PFE': ['https://finance.yahoo.com/news/stock-futures-droop-amid-mixed-earnings-after-blazing-july-stock-market-news-today-121511468.html',\n",
       "  'https://finance.yahoo.com/news/arvinas-pfizer-awarded-innovation-passport-203000619.html',\n",
       "  'https://www.google.com/search?q%3Dyahoo%2Bfinance%2BPFE%26tbm%3Dnws%26pccc%3D1',\n",
       "  'https://finance.yahoo.com/news/pfizer-announces-executive-leadership-advance-104500957.html',\n",
       "  'https://finance.yahoo.com/news/earn-500-month-pfizer-stock-120100836.html',\n",
       "  'https://finance.yahoo.com/news/10-best-small-cap-pharma-185609107.html',\n",
       "  'https://finance.yahoo.com/news/pfizer-q2-earnings-snapshot-105818783.html',\n",
       "  'https://finance.yahoo.com/news/caribou-biosciences-announces-25-million-120000433.html',\n",
       "  'https://finance.yahoo.com/news/drug-biotech-stocks-q2-earnings-135800432.html',\n",
       "  'https://finance.yahoo.com/news/earnings-preview-pfizer-pfe-q2-140133393.html',\n",
       "  'https://finance.yahoo.com/news/caribou-biosciences-raises-125m-via-152759589.html'],\n",
       " 'TSLA': ['https://www.livemint.com/technology/gadgets/elon-musk-shares-a-photo-of-testa-phone-boasts-can-be-used-from-mars-11690906528131.html',\n",
       "  'https://www.investors.com/news/tesla-china-rivals-nio-li-auto-xpeng-hot-streak-july-2023-ev-sales/',\n",
       "  'https://finbold.com/heres-the-average-tesla-stock-return-rate-for-august/',\n",
       "  'https://auto.hindustantimes.com/auto/electric-vehicles/tesla-executives-discuss-india-entry-plans-with-countrys-invest-promotion-agency-know-more-41690777125027.html',\n",
       "  'https://www.fool.com/investing/2023/07/31/prediction-this-ai-stock-will-be-1-of-the-top-5-la/',\n",
       "  'https://www.google.com/search?q%3Dyahoo%2Bfinance%2BTSLA%26tbm%3Dnws%26pccc%3D1',\n",
       "  'https://www.barrons.com/articles/nio-li-auto-xpeng-deliveries-tesla-stock-price-eeb6a5a4',\n",
       "  'https://www.moneycontrol.com/news/trends/elon-musk-shares-video-of-x-logo-atop-twitters-hq-in-san-francisco-11058791.html',\n",
       "  'https://finance.yahoo.com/news/charlie-munger-calls-tesla-minor-151242552.html',\n",
       "  'https://www.investors.com/market-trend/stock-market-today/dow-jones-futures-microsoft-tesla-stock-new-buy-points-big-earnings-movers/',\n",
       "  'https://www.barrons.com/articles/toyota-earnings-tesla-stock-df22231b'],\n",
       " 'BTC': ['https://www.google.com/search?q%3Dyahoo%2Bfinance%2BBTC%26tbm%3Dnws%26pccc%3D1',\n",
       "  'https://finance.yahoo.com/news/leading-defi-protocol-btc-proxy-130000091.html',\n",
       "  'https://finance.yahoo.com/news/bitcoin-dips-below-29-2k-223459436.html',\n",
       "  'https://finance.yahoo.com/news/barbies-margot-robbie-bitcoin-says-154521696.html',\n",
       "  'https://finance.yahoo.com/news/bitcoin-ether-little-changed-market-014809631.html',\n",
       "  'https://finance.yahoo.com/news/bitcoin-ether-edge-fed-raises-015856136.html',\n",
       "  'https://uk.investing.com/news/cryptocurrency-news/watch-barbie-star-margot-robbie-thinks-bitcoin-talk-is-typical-ken-behavior-3102298',\n",
       "  'https://finance.yahoo.com/news/bitcoin-dawdles-below-30k-investors-214640218.html',\n",
       "  'https://finance.yahoo.com/news/crypto-stocks-sag-after-us-judge-gives-new-boost-to-sec-174539890.html',\n",
       "  'https://finance.yahoo.com/news/sec-told-coinbase-stop-trading-045627668.html',\n",
       "  'https://finance.yahoo.com/news/human-rights-foundation-launches-bug-031658499.html'],\n",
       " 'ZI': ['https://finance.yahoo.com/news/intercontinental-hotels-group-plc-announces-060000257.html',\n",
       "  'https://finance.yahoo.com/news/zoominfo-shares-fall-missing-revenue-162551893.html',\n",
       "  'https://finance.yahoo.com/news/eur-usd-forecast-euro-continues-140005878.html',\n",
       "  'https://finance.yahoo.com/news/bitcoin-ether-edge-fed-raises-015856136.html',\n",
       "  'https://finance.yahoo.com/news/time-consider-buying-adobe-inc-140022062.html',\n",
       "  'https://finance.yahoo.com/news/analog-devices-invests-more-1-225500104.html',\n",
       "  'https://finance.yahoo.com/news/zacks-com-featured-highlights-lululemon-103100682.html',\n",
       "  'https://finance.yahoo.com/news/65-ownership-shares-zoominfo-technologies-100712647.html',\n",
       "  'https://www.google.com/search?q%3Dyahoo%2Bfinance%2BZI%26tbm%3Dnws%26pccc%3D1',\n",
       "  'https://finance.yahoo.com/news/paypal-holdings-pypl-fell-investors-094217062.html',\n",
       "  'https://finance.yahoo.com/news/lemonade-announce-second-quarter-2023-180800471.html']}"
      ]
     },
     "execution_count": 90,
     "metadata": {},
     "output_type": "execute_result"
    }
   ],
   "source": [
    "cleaned_urls = {ticker:parse_urls(urls[ticker], bad_words) for ticker in stock_tickers}\n",
    "cleaned_urls"
   ]
  },
  {
   "cell_type": "code",
   "execution_count": 91,
   "metadata": {},
   "outputs": [],
   "source": [
    "def scrape_and_process(URLs):\n",
    "    articles = []\n",
    "    for url in URLs: \n",
    "        r = requests.get(url)\n",
    "        soup = BeautifulSoup(r.text, 'html.parser')\n",
    "        paragraphs = soup.find_all('p')\n",
    "        text = [paragraph.text for paragraph in paragraphs]\n",
    "        words = ' '.join(text).split(' ')[:300]\n",
    "        article = ' '.join(words)\n",
    "        articles.append(article)\n",
    "    return articles"
   ]
  },
  {
   "cell_type": "code",
   "execution_count": 92,
   "metadata": {},
   "outputs": [
    {
     "data": {
      "text/plain": [
       "{'PFE': [\"Stock futures had a lazy start to August, pulling back from a July rally amid a flurry of mixed earnings. Futures on the S&P 500 (^GSPC) dropped 0.3%, while those on the Dow Jones Industrial Average (^DJI) lost 0.1%. The tech-heavy Nasdaq Composite (^IXIC) slumped 0.5% before the open. A plethora of earnings added mixed sentiments to what has been a bullish mood for most of 2023 so far. Of note, Caterpillar (CAT) warned of a coming slowdown in its business; Pfizer (PFE) trimmed the upper end of its revenue forecast; Uber (UBER) popped after posting a surprise profit. These earnings serve as the appetizer for the main event: second quarter results from Apple (AAPL) and Amazon (AMZN) that are due out Thursday. Both stocks are up more than 50% so far this year. Investors are also looking ahead to key pieces of data out this week, most notably the jobs report in the US on Friday. Monday's finish capped a strong month of July for all the major indexes. The S&P 500 and Nasdaq both wrapped up their fifth straight month of gains.\",\n",
       "  'Designation indicates entry into the U.K.’s Innovative Licensing\\xa0and Access Pathway (ILAP) NEW HAVEN, Conn. and NEW YORK, July 31, 2023 (GLOBE NEWSWIRE) -- Arvinas, Inc. (Nasdaq: ARVN) and Pfizer Inc. (NYSE: PFE) today announced that the U.K. Innovative Licensing and Access Pathway Steering Group, which consists of The All Wales Therapeutics and Toxicology Centre (AWTTC), The Medicines and Healthcare products Regulatory Agency (MHRA), the National Institute for Health and Care Excellence (NICE), and the Scottish Medicines Consortium (SMC), has awarded an Innovation Passport to vepdegestrant (ARV-471), an investigational PROTAC® ER degrader, for the treatment of patients with estrogen receptor (ER)+/ human epidermal growth factor receptor (HER)2- locally-advanced breast cancer or metastatic breast cancer. The Innovation Passport is the entry point for the Innovative Licensing and Access Pathway (ILAP). The goal of ILAP is to accelerate the time to market facilitating patient access to medicines in the U.K. The Innovation Passport application is the first step in the ILAP process, which activates the Medicines and Healthcare products Regulatory Agency (MHRA) and its partner agencies, including the National Institute for Health and Care Excellence (NICE), and the Scottish Medicines Consortium (SMC) and to develop a roadmap for regulatory and development milestones. “This esteemed acknowledgment underscores our commitment to advancing medicine and delivering transformative solutions for patients,” said John Houston, Ph.D., president and chief executive officer at Arvinas. “Arvinas is hopeful our investigational PROTAC® ER degrader, vepdegestrant, will have the potential to be an endocrine therapy backbone for ER+/HER2-breast cancer.\" “The Innovation Passport designation opens the door for Pfizer and Arvinas to discuss access considerations for potential future indications for vepdegestrant,” said Chris Boshoff, M.D., Ph.D., chief oncology research and development officer and executive vice president at Pfizer. “We look forward to an ongoing dialogue with regulators, health technology assessment agencies and other',\n",
       "  '© 2023 - Privacy - Terms',\n",
       "  'NEW YORK, July 27, 2023--(BUSINESS WIRE)--Pfizer Inc. (NYSE: PFE) today announced changes to its executive leadership team to further advance its aspirations to discover and develop new medicines and vaccines, with an emphasis on oncology. Effective today, Chris Boshoff, M.D., PhD, will join Pfizer’s Executive Leadership Team as Chief Oncology Research and Development Officer and Executive Vice President reporting to Chairman and Chief Executive Officer, Albert Bourla. Under his leadership, Pfizer will continue to invest in its fight against cancer and Dr. Boshoff will be the single point of accountability for the entire oncology pipeline – from discovery to early and late-phase clinical development. \"We are delighted to welcome Chris Boshoff to our executive leadership team as he works to accelerate the delivery of the next generation of cancer breakthroughs to patients around the world,\" said Dr. Albert Bourla, Chairman and CEO, Pfizer Inc. \"About 1 in 3 people will be diagnosed with cancer during their lifetime in the United States, which means just about every family will be impacted by this dreaded disease. Chris is an exceptional physician-scientist with the vision and expertise to unleash the scale and strength of Pfizer’s ambition in cancer research.\" Previously, Dr. Boshoff oversaw clinical research and product development activities for Pfizer’s Oncology portfolio, including 24 approved innovative cancer medicines and biosimilars in more than 30 indications, as well as Pfizer’s industry-leading Rare Disease portfolio of innovative medicines spanning four therapeutic areas. Before assuming leadership roles in the biopharmaceutical industry, Dr. Boshoff served as Director of the University College London (UCL) Cancer Institute. Dr. Boshoff earned his medical degree from University of Pretoria in South Africa, a PhD from the Institute of Cancer Research in London and trained as a medical oncologist at the Royal Marsden and Royal Free Hospitals in London. In addition',\n",
       "  \"Shares of Pfizer Inc (NYSE:PFE) are trading at 52-week lows as investors adjust to the company’s pursuit of a candidate for a weight loss pill, marking its entry into the competitive obesity drug market. The Street responded critically. JPMorgan Chase & Co (NYSE:JPM) analysts called the news a setback for the company. Lotiglipron — the disregarded candidate — was expected to be the stronger contender. Meanwhile, SVB Securities labeled the decision “incrementally negative,” according to Yahoo! Finance. Still, Pfizer is pressing on with its plan to advance the twice-daily pill while also researching a once-daily variant. And Pfizer’s dividend yield stands out — a robust 4.56%. Investing in real estate just got a whole lot simpler. With as little as $100, average investors are becoming landlords thanks to this Jeff Bezos-backed startup. This REIT just teamed up with the company that built Elon Musk's tiny house to develop affordable housing communities. Here's how you can be among the first to buy shares. So, how can investors exploit its dividend yield to pocket a regular $500 monthly? To earn $500 per month or $6,000 annually from dividends alone, you would need an investment of approximately $131,579, or 3,635 shares. For a more modest $100 per month or $1,200 per year, you would need $26,315, or 727 shares. To calculate: Divide the desired annual income ($6,000 or $1,200) by the dividend yield (0.046 in this case). So, $6,000 / 0.0456 = $131,579 ($500 per month), and $1,200 / 0.0456 = $26,315 ($100 per month). Note that dividend yield can change on a rolling basis, as the dividend payment and the stock price both fluctuate over time. How that works: The dividend yield is computed by dividing the annual dividend payment by the stock's current price. For example, if a stock pays an\",\n",
       "  \"In this piece, we will take a look at the ten best small cap pharma stocks to buy. If you want to skip a primer on small cap investing and want to jump ahead to the top five stocks in this piece, then head on over to 5 Best Small Cap Pharma Stocks to Buy.  The pharmaceutical industry is one that has profited a lot from the computing revolution. Throughout the years, and especially in the wake of the coronavirus pandemic, a handful of biotechnology stocks have soared. For instance, BioNTech SE (NASDAQ:BNTX), one of the manufacturers of the coronavirus vaccine, has seen its shares jump by 661% in the past five years despite the fact that they are now trading at roughly $105 - levels significantly below the late 2021 peak which saw the share price touch nearly $400. Moderna, Inc. (NASDAQ:MRNA)'s shares have grown by slightly less, but like BioNTech, have dropped from what were perhaps record high levels in 2021. On a broader level, the pharmaceutical industry is made up of both biotechnology companies and giants such as Pfizer Inc. (NYSE:PFE) and Eli Lilly and Company (NYSE:LLY). These companies have market capitalizations in hundreds of billions of dollars and they sell pharmaceutical and biopharmaceutical products. And quite interestingly, the returns of the biotechnology and the pharmaceutical sector have been nearly similar over the past two decades or so. The iShares Biotechnology ETF (NASDAQ:IBB), which has been trading since early 2001 is up by roughly 280% since then while the iShares U.S. Pharmaceuticals ETF (NASDAQ:IHE) has gained close to 265% since 2006. During the same time period, the S&P500 index has returned roughly 214% since 200 - implying that the two exchanged traded funds that broadly target the biotechnology and the pharmaceutical companies have somewhat outpaced a\",\n",
       "  'NEW YORK (AP) — NEW YORK (AP) — Pfizer Inc. (PFE) on Tuesday reported second-quarter net income of $2.33 billion. The New York-based company said it had net income of 41 cents per share. Earnings, adjusted for non-recurring costs and to account for discontinued operations, came to 67 cents per share. The results surpassed Wall Street expectations. The average estimate of eight analysts surveyed by Zacks Investment Research was for earnings of 56 cents per share. The drugmaker posted revenue of $12.73 billion in the period, falling short of Street forecasts. Five analysts surveyed by Zacks expected $13 billion. Pfizer expects full-year earnings in the range of $3.25 to $3.45 per share, with revenue in the range of $67 billion to $70 billion. _____ This story was generated by Automated Insights (http://automatedinsights.com/ap) using data from Zacks Investment Research. Access a Zacks stock report on PFE at https://www.zacks.com/ap/PFE Related Quotes',\n",
       "  '-- Pfizer purchases $25 million of Caribou common shares -- -- Sriram Krishnaswami, PhD, vice president and development head, multiple myeloma, Pfizer Global Product Development, has joined Caribou’s Scientific Advisory Board -- BERKELEY, Calif., July 06, 2023 (GLOBE NEWSWIRE) -- Caribou Biosciences, Inc. (Nasdaq: CRBU), a leading clinical-stage CRISPR genome-editing biopharmaceutical company, today announced that Pfizer Inc. (NYSE: PFE) has made a $25 million equity investment in the company. Pfizer purchased 4,690,431 of Caribou common shares at a price of $5.33 per share, pursuant to the terms of a Securities Purchase Agreement dated June 29, 2023. The purchase by Pfizer closed on June 30, 2023. In conjunction with the investment,\\xa0Sriram\\xa0Krishnaswami, PhD, has joined Caribou’s Scientific Advisory Board. “We believe Pfizer’s investment in Caribou highlights the potential of our clinical programs and we are excited to establish this partnership with one of the world’s premier biopharmaceutical companies,” said Rachel Haurwitz, PhD, Caribou’s president and chief executive officer. “We are actively advancing our allogeneic CAR-T cell therapy pipeline and look forward to providing updates from all of our programs over the next six months, including 6-month dose escalation data from our ANTLER Phase 1 clinical trial for CB-010, dose escalation updates on our CaMMouflage Phase 1 clinical trial for CB-011, and submission of an investigational new drug application for CB-012.” “We are encouraged by Caribou’s chRDNA genome-editing technology and the potential of allogeneic cell therapies as a promising off-the-shelf approach to cancer treatment,” said Dr. Krishnaswami. “Pfizer has a long history of supporting early, innovative science in the biotech ecosystem, and we look forward to supporting Caribou as they continue to advance their ANTLER Phase 1 trial for CB-010, as well as their clinical program for CB-011, an allogeneic anti-BCMA cell therapy for multiple myeloma.” Caribou will use the proceeds of this',\n",
       "  'The second-quarter 2023 reporting cycle of the Medical\\xa0sector is about to pick up pace this week. The sector mainly comprises pharma/biotech and medical device companies. The earnings season for the Medical sector kicked off around mid-July when bellwether Johnson & Johnson reported better-than-expected second-quarter results. It beat estimates for earnings as well as sales. All three segments, Pharmaceutical, MedTech and Consumer Health, delivered a strong performance in the quarter, gaining from solid demand trends. Among the biotechs, Biogen and GSK plc reported their second-quarter results last week, where both companies beat earnings and revenues estimates. Biogen maintained its previously issued financial outlook for 2023, while GSK raised the same. The Earnings Trends\\xa0report indicates that as of Jul 26, 17.2% of the companies in the Medical sector — representing 35.2% of the sector’s market capitalization — reported quarterly earnings. Of these, 90% have outperformed on both earnings and revenues. Earnings increased 3.1% year over year, while revenues increased 12.8%. Overall, second-quarter earnings of the Medical sector are expected to decline 31.2%, while sales are expected to rise 3.3% from the year-ago quarter. Pfizer\\xa0PFE, Merck MRK, Vertex Pharmaceuticals VRTX, Exelixis EXEL and Incyte INCY are scheduled to release second-quarter earnings on Aug 1. While, PFE, MRK and INCY are set to report before the opening bell, VRTX and EXEL will report after market close. Let’s see how these biotech/pharma companies might have performed in the soon-to-be-reported quarter. Pfizer has an impeccable earnings track record. PFE’s earnings beat estimates in each of the trailing four quarters, delivering an average surprise of 17.84%. In the last reported quarter, Pfizer’s earnings beat estimates by 23%. Per our proven model, companies with the combination of a positive Earnings ESP and a Zacks Rank #1 (Strong Buy), #2 (Buy) or #3 (Hold) have a good chance of',\n",
       "  \"Pfizer (PFE) is expected to deliver a year-over-year decline in earnings on lower revenues when it reports results for the quarter ended June 2023. This widely-known consensus outlook gives a good sense of the company's earnings picture, but how the actual results compare to these estimates is a powerful factor that could impact its near-term stock price. The earnings report, which is expected to be released on August 1, 2023, might help the stock move higher if these key numbers are better than expectations. On the other hand, if they miss, the stock may move lower. While the sustainability of the immediate price change and future earnings expectations will mostly depend on management's discussion of business conditions on the earnings call, it's worth handicapping the probability of a positive EPS surprise. Zacks Consensus Estimate This drugmaker is expected to post quarterly earnings of $0.60 per share in its upcoming report, which represents a year-over-year change of -70.6%. Revenues are expected to be $13.89 billion, down 49.9% from the year-ago quarter. Estimate Revisions Trend The consensus EPS estimate for the quarter has been revised 0.24% lower over the last 30 days to the current level. This is essentially a reflection of how the covering analysts have collectively reassessed their initial estimates over this period. Investors should keep in mind that an aggregate change may not always reflect the direction of estimate revisions by each of the covering analysts. Earnings Whisper Estimate revisions ahead of a company's earnings release offer clues to the business conditions for the period whose results are coming out. Our proprietary surprise prediction model -- the Zacks Earnings ESP (Expected Surprise Prediction) -- has this insight at its core. The Zacks Earnings ESP compares the Most Accurate Estimate to the Zacks Consensus Estimate for the quarter; the Most\",\n",
       "  'Caribou Biosciences Inc\\xa0(NASDAQ: CRBU) reported long-term follow-up data from the dose escalation portion of the ongoing ANTLER Phase 1 trial of CB-010, an allogeneic anti-CD19 CAR-T cell therapy for relapsed or refractory B cell\\xa0non-Hodgkin lymphoma (r/r B-NHL). Concurrently, Caribou priced an upsized underwritten public offering of 19.2 million shares at $6.50 per share, with\\xa0gross proceeds of $125 million. Last week, Caribou received an equity investment of $25 million from Pfizer Inc (NYSE: PFE) to\\xa0advance CB-011 development. The data set includes all 16 patients treated in dose escalation. In ANTLER dose escalation, three dose levels of CB-010 were evaluated (40x106, 80x106, and 120x106 CAR-T cells) in patients with multiple subtypes of aggressive r/r B-NHL. CB-010 was generally well tolerated with adverse events consistent with autologous or allogeneic anti-CD19 CAR-T cell therapies; as previously reported, no dose-limiting toxicities (DLTs) were observed at dose levels 2 or 3 following a single DLT at dose level 1. A 94% overall response rate (ORR; 15 of 16 patients) was observed following a single dose of CB-010. 69% of patients (11 of 16) achieved a complete response (CR). 44% of patients (7 of 16) had a CR at ≥6 months; 24 months is the longest CR maintained to date. For the subset of patients with large B cell lymphoma (LBCL) (N=10): A 90% ORR (9 of 10) was observed. 70% (7 of 10) achieved a CR. 50% (5 of 10) had a CR at ≥6 months; 18 months is the longest CR maintained to date. Caribou is enrolling second-line patients with LBCL in the ongoing dose expansion portion of the ANTLER clinical trial. In expansion, the mid-dose and the high dose from escalation (80x106 and 120x106 CAR-T cells) are being evaluated in approximately 30 second-line patients to determine the recommended Phase 2 dose. Caribou plans to'],\n",
       " 'TSLA': ['      Tesla CEO Elon Musk Tuesday shares a photo of Testa Phone on Twitter and asked his followers if they would like to use the phone which comes X pre-installed.    Netizens could not keep calm after Musk tweeted in the Tesla phone.    The Tesla CEO informed in a reply to Twitter user that the phone would likely to have connected to Starlink as it only makes sense. After the user named Crypto Infinity said he wanted to have the phone if it’s a satellite phone is connected to the starlink.    Another twitter user named Oder Wat wanted to know if theTesla phone is with\"Free Speech\" servers!    Another user named Habibi wanted to know if the Tesla Phone runs on xOS. He further said he would 1000% like to use the Tesla Phone if it runs on xOS.    One of the user named Ryan wanted to know the size and weight of the Tesla phone. He tweeted he would love to use the Tesla phone if“It it’s the same size and weight as my beloved iPhone 12 mini.\"    On which Tesla CEO Musk replied that the phone “would only be better! Never worse.\"    Replying to another user who wanted to know about the Starlink connectivity“Starlink anywhere in the world...$100/mo unlimited and I am there!\"the Tesla CEO said it“would be quite incredible. Maybe you could use it from Mars!\"    Since being posted, the tweet has already garnered more than 4.7 million views, 85.7K likes and 6,394 retweets.    Seprately, the Indian officials have advised Elon Musk, who is building a plant in India—to follow Apple in finding “local firms to partner',\n",
       "  '\\n                Access to this page has been denied because we believe you are using automation tools to browse the\\n                website.\\n             \\n                This may happen as a result of the following:\\n             \\n                Please make sure that Javascript and cookies are enabled on your browser and that you are not blocking\\n                them from loading.\\n             \\n                Reference ID: #7636ce8b-3097-11ee-8f37-6b694f544d6b\\n             \\n                Powered by\\n                PerimeterX\\n                , Inc.\\n            ',\n",
       "  'In contrast to its impressive gains throughout the year, Tesla (NASDAQ: TSLA) stock’s momentum seemed to have slowed down in July, with a modest rise of less than 2%.\\xa0 As August approaches, Finbold’s data analysis delves into Tesla’s historical stock market performance during this particular month, aiming to shed light on whether the electric vehicle (EV) giant can regain its fervor or face new challenges ahead. Interestingly, August is one of the more favorable months for Elon Musk’s automaker. In particular, since going public after its initial public offering (IPO) in 2010, TSLA’s historical win rate in this month stands at 54%, with an average return of 7.58%, according to data retrieved on July 31. “$TSLA Since the company IPO’d in 2010, Tesla has a 54% win rate in the month of August with an average return of +7.58%.” The stock win rate refers to the percentage of profitable trades or periods of positive returns compared to the total number of trades or time periods analyzed. Primarily, it serves to gauge the stock’s success in generating gains and is often used by investors to evaluate the performance of a particular company in the stock market. Historically, Tesla showcased strong performance in August. However, the following two months, September and October, proved to be challenging for the company’s stock, with a discouraging win rate of just 38% in each respective month. Still, the last two months of the year, November and December, have previously boded well for Tesla, with a historical win rate of 69% and 54%, respectively. In fact, November is the second most favorable month for Tesla, after June (77%).\\xa0 At the time of publication, shares of Tesla were standing at $266.44, after closing 4.2% higher on July 28.\\xa0 Over the past week, the EV stock is down around',\n",
       "  \" Copyright © HT Media Limited  All rights reserved.   Two senior Tesla executives reportedly discussed the auto company's plans to enter the Indian market with the officials from the country's investment promotion arm Invest India last week. The high-level meeting comes as an addition to a series of meetings that have been taking place over the last few weeks since the US electric car brand has expressed an interest in building a production facility in India that would manufacture a low-cost electric vehicle, which would be priced at $24,000, which would translate to around ₹20 lakh.  In an attempt to grab the sizeable market of India, Tesla is emphasising on the new car, which would be the cheapest from the automaker. Upon launch, this EV would be around 25 per cent cheaper than Tesla Mo0del 3, which is the brand's current entry model. It would be built in India for the Indian market and export. A few weeks ago, high-level Tesla officials came to India to discuss its investment plan with Indian government officials. After that, Tesla CEO Elon Musk met Prime Minister Narendra Modi, during PM's US visit. The Tesla head honcho too expressed his interest to invest in India.  Also Read : Tesla in India: A complete timeline of the company's EV push in the country  Interestingly, the latest developments come as a sharp reversal for the auto company. It has remained reluctant to invest in India as the Indian government has made it clear that the US company will not receive any special benefit in terms of reduced import taxes, which Tesla has demanded several times. Also, the Indian government has made it clear that to avail of any benefit, Tesla must manufacture its cars locally in India.  Speaking of\",\n",
       "  \"Founded in 1993 by brothers Tom and David Gardner, The Motley Fool helps millions of people attain financial freedom through our website, podcasts, books, newspaper column, radio show, and premium investing services. Founded in 1993 by brothers Tom and David Gardner, The Motley Fool helps millions of people attain financial freedom through our website, podcasts, books, newspaper column, radio show, and premium investing services. You’re reading a free article with opinions that may differ from The Motley Fool’s Premium Investing Services. Become a Motley Fool member today to get instant access to our top analyst recommendations, in-depth research, investing resources, and more. Learn More Most know electric vehicle company Tesla (TSLA -2.31%)\\xa0for its vehicles and pioneering the ongoing shift from gas-powered transportation to electric. But it is also a business built on artificial intelligence and has been for some time. CEO Elon Musk's vision for the company centers around a future where cars drive themselves and intelligent bots replace human labor. It may seem far-fetched today, but the seeds are planted for 2030 and beyond, and arguably no company has the opportunity in front of it that Tesla does. Here is why Tesla could be one of the world's five largest companies by 2030. Tesla's full self-driving technology (FSD) is the foundation for the company's long-term growth. The company began fitting all models with the required hardware for FSD in 2016 and released a beta program to the public in 2020. The company's been monitoring its customers since then, collecting more than 150 million miles of FSD driving data to hone its software and continue improving FSD technology. Since Tesla's FSD technology uses software to process and analyze a vehicle's surroundings, the company aims to apply the same concept to create an entirely new market with Tesla Bot. Elon Musk\",\n",
       "  '© 2023 - Privacy - Terms',\n",
       "  \"That content doesn't seem to exist... have you tried going to the home page, or exploring an interest? Meanwhile, here are some important items you'll want to know:\",\n",
       "  'My Account Follow us on: \\xa0 Find & Invest in bonds issued by top corporates, PSU Banks, NBFCs, and much more. Invest as low as 10,000 and earn better returns than FD Invest Now Powered By  Find safe & high-yielding bonds for your buck. Discover the right bonds meeting your investment amount & investment horizon Invest Now  AMBAREESH BALIGA Fundamental, Stock Ideas, Multibaggers & Insights Subscribe CK NARAYAN Stock & Index F&O Trading Calls & Market Analysis Subscribe SUDARSHAN SUKHANI Technical Call, Trading Calls & Insights Subscribe T GNANASEKAR Commodity Trading Calls & Market Analysis Subscribe MECKLAI FINANCIALS Currency Derivatives Trading Calls & Insights Subscribe SHUBHAM AGARWAL Options Trading Advice and Market Analysis Subscribe MARKET SMITH INDIA Model portfolios, Investment Ideas, Guru Screens and Much More Subscribe TraderSmith Proprietary system driven Rule Based Trading calls Subscribe   Curated markets data, exclusive trading recommendations, Independent equity analysis & actionable investment ideas Subscribe Curated markets data, exclusive trading recommendations, Independent equity analysis & actionable investment ideas Explore STOCK REPORTS BY THOMSON REUTERS Details stock report and investment recommendation Subscribe POWER YOUR TRADE Technical and Commodity Calls Subscribe INVESTMENT WATCH Set price, volume and news alerts Subscribe STOCKAXIS EMERGING MARKET LEADERS 15-20 High Growth Stocks primed for price jumps Subscribe Twitter owner Elon Musk replaced the iconic “blue bird” logo with just an ‘X’ on July 24. The microblogging platform is now showing the brand new logo and Musk also confirmed that the domain name X.com now redirects its users to Twitter.com. Amid all of that, Musk shared a video of his company’s headquarters in San Francisco with the ‘X’ logo beaming bright. The Tesla chief took to Twitter to share the now-viral video. The clip has already garnered over 21 million views since being shared on July 29. The',\n",
       "  'Earlier this year, Tesla Inc. CEO Elon Musk made light of Berkshire Hathaway Inc. CEO Warren Buffett and his right-hand man Charlie Munger\\'s performance in response to a post showcasing their company\\'s portfolio growth from 1994 to 2022. Musk tweeted, \"Munger could\\'ve invested in Tesla at ~$200M valuation when I had lunch with him in late 2008.\" Don’t Miss: Billionaires are making their money in the private markets, and\\xa0This Startup Is Revolutionizing Healthcare Investment so anyone can get involved. Gamers are selling their old gaming items for millions. Learn why everyday gamers and investors are\\xa0claiming a stake in their side hustles and how they invested over $1.2 million in this startup. Musk also tweeted that during a 2009 lunch, Munger expressed doubt about Tesla\\'s future, listing several reasons he believed the electric car company would fail. Musk admitted that Munger\\'s comments left him feeling disheartened, but he agreed with the concerns raised. Despite the possibility of failure, Musk was determined to press on, believing that trying to make Tesla a success was worth the risk. The tweet read: \"I was at a lunch with Munger in 2009 where he told the whole table all the ways Tesla would fail. Made me quite sad, but I told him I agreed with all those reasons & that we would probably die, but it was worth trying anyway.\" But since that lunch, it seems that Munger\\'s perspective on Tesla has shifted. While he mentioned not recalling the specific lunch conversation with Musk, Munger now praises Tesla and recognizes its remarkable achievements in the American auto industry. Speaking highly of Musk\\'s electric vehicle company during an interview with CNBC\\'s Becky Quick on \"Squawk Box,\" Munger commended Tesla for its substantial contributions to civilization. \"We haven\\'t had a successful new auto company in a long,',\n",
       "  '\\n                Access to this page has been denied because we believe you are using automation tools to browse the\\n                website.\\n             \\n                This may happen as a result of the following:\\n             \\n                Please make sure that Javascript and cookies are enabled on your browser and that you are not blocking\\n                them from loading.\\n             \\n                Reference ID: #7b602813-3097-11ee-8594-56634b576b4b\\n             \\n                Powered by\\n                PerimeterX\\n                , Inc.\\n            ',\n",
       "  \"That content doesn't seem to exist... have you tried going to the home page, or exploring an interest? Meanwhile, here are some important items you'll want to know:\"],\n",
       " 'BTC': ['© 2023 - Privacy - Terms',\n",
       "  \"Road Town, BVI, July 31, 2023 (GLOBE NEWSWIRE) -- BTC PROXY, the leading DeFi protocol designed for BTC holders, is excited to announce a strategic partnership with MPCVault, a leading secure multi-signature custody solutions provider. This collaboration marks a significant milestone in BTC PROXY's ongoing vision to develop the most transparent and decentralized Bitcoin DeFi protocol. BTC PROXY has already established itself as a pioneer in the DeFi space, offering insured custody of BTC through trusted partnerships with industry-leading custodians such as Binance Custody, Gemini Trust, Hex Trust, and Fireblocks. As the industry shifts away from centralized organizations towards more transparent and decentralized solutions, BTC Proxy has joined forces with MPCVault to provide select institutions with an option for self-custody. The partnership enables these institutions to utilize multi-signature permissions, allowing for enhanced security to hold their Bitcoin in fully viewable wallets on the blockchain. Through this collaboration, partners will have the opportunity to deposit their Bitcoin into MPCVault-integrated wallets within the BTC Proxy protocol, which, in turn, will mint BTCpx tokens for use within DeFi. This process ensures that partners can monitor their Bitcoin holdings within the user-friendly GUI as well as on the blockchain. The multi-signature process allows for secure withdrawal and removal of Bitcoin with a majority quorum, ensuring enhanced security. Centralized platforms and insecure protocols have long been a challenge for DeFi, often leading to closures and hacks that result in losing users' funds. By partnering with MPCVault, BTC PROXY aims to provide BTC holders with a seamless solution to transfer their Bitcoin onto DeFi, including the upcoming Redux protocol. Redux is an on-chain Bitcoin borrowing and lending protocol designed to offer permissionless access to Bitcoin for institutions and users, further enriching the DeFi ecosystem. About MPCVault MPCVault is a self-custodial Web3 wallet designed for teams, featuring\",\n",
       "  \"Bitcoin (BTC) moved through the east Asia afternoon trading day just shy of $29,500, sitting comfortably at $29,404, as the CoinDesk Indicies bitcoin trend indicator put the world’s largest digital asset at neutral. Ether, the second-largest cryptocurrency by market value, slid down 0.66% to $1,864, according to CoinDesk data. In a recent market update note, Singapore-based QCP Capital said this is the season of accumulators. Despite BTC and ETH's indifferent response to macroeconomic factors and their current sideways trading, the market anticipates a rise in volatility and a possible significant BTC price increase by year's end due to factors like the Blackrock spot ETF ruling and the Bitcoin Halving, with Accumulators emerging as an effective strategy for accredited investors to acquire coins at discounted prices steadily, they wrote. Elsewhere, Galaxy Digital’s Mike Novogratz recently said in an interview with Bloomberg that “the most important thing that happened this year in Bitcoin is Larry Fink,” emphasizing his bullishness about the world’s largest digital currency post-ETF filing. “Larry was a nonbeliever. Now he says, ‘Hey, this is going to be a global currency.’ People around the world all trust it,” Novogratz said, while also mentioning that Galaxy Digital is committed to maintaining a presence in New York. Novogratz also said that his ideal portfolio for a young person with risk tolerance is shares of Alibaba, silver, gold, bitcoin, and ether. Meanwhile, Joe DiPasquale, the CEO of crypto fund manager BitBull Capital, said bitcoin’s ability to shrug off macroeconomic events, or even material technical events like the Curve Finance exploit, has created a recent “sustained sentiment shift” to the upside in the markets. “Notably, now that the Fed's interest rate hike is also priced, the fact that Bitcoin and ETH have both maintained their price levels, should give bulls additional confidence,” DiPasquale wrote\",\n",
       "  'Margot Robbie, star of this summer\\'s ubiquitous movie sensation Barbie, said she and director Greta Gerwig referred to two of the producers as \"such Kens\" when they talked about bitcoin. In an interview with Fandango last month, Robbie said while in prep for the movie, David Heyman and Tom Acklerley (also Robbie\\'s husband) would \"start talking about bitcoin or something,\" she and Gerwig would say \"They\\'re being such Kens!\", comparing it to the way they would talk about golf. What \"such a Ken\" means could be anybody\\'s guess and for her part Robbie did not go on to define it. She did, however, say there is such a thing as \"Big Ken Energy\" (no, us neither), \"and that can be a good thing.\" Michael Saylor, CEO of software company Microstrategy (MSTR) which owns an estimated 152,333 BTC worth roughly $4.5 billion, took the connection a bit further, recently tweeting a video of the interview under the comment \"Bitcoin is Big Ken Energy.\" Read More: Bullish MicroStrategy Analysts Raise Price Targets Ahead of Q2 Earnings',\n",
       "  'Bitcoin and Ether prices fell in early Tuesday afternoon trading in Asia, with Bitcoin losing support at US$29,000, amid concern about the hack of the popular decentralized finance platform Curve Finance over the weekend that saw an estimated US$41 million stolen and raised concerns about a DeFi contagion. The hack has been linked to a flaw in a programming language. These concerns increased as reports surfaced on Tuesday of an attack on the LeetSwap exchange running on Coinbase. Solana and Matic led the top 10 losers mid Tuesday. Litecoin also gave up gains ahead of its halving event on Wednesday. Bitcoin fell 1.8% in the last 24 hours to US$28,872 as of 12:50 p.m. in Hong Kong, according to data from CoinMarketCap. The world’s largest cryptocurrency fell under the US$30,000 support floor in the latter weeks of July and has fluctuated around US$29,000 since then, unable to find buying support for a breakout in the so-called summer doldrums when trading in many capital markets slows. However, drama came over the weekend when decentralized stablecoin exchange Curve Finance reported a security issue in older versions of Vyper, the programming language used for smart contracts. According to data from smart contract auditing firm BlockSec, hackers drained an estimated US$41 million in cryptocurrencies from the platform as a result of the malfunction, raising concerns about possible problems at other DeFi platforms. Curve Finance is the third largest decentralized financial exchange (DEX) by 7-day trading volume, according to DeFi data tracker DefiLlama. Bitcoin and Ether lost ground as CoinDesk reported that LeetSwap said its working with on-chain security experts to recover 340 Ether after PeckShield tweeted the exchange on Coinbase’s Layer 2 blockchain had been attacked. In earlier comments related to the Curve hack, Justin d’Anethan at Hong Kong-based crypto market maker Keyrock said',\n",
       "  'Bitcoin gained Thursday morning in Asia, but not enough to break through resistance at US$29,500 after the Federal Reserve raised interest rates by the expected quarter point. The bank left the door open for another increase in September. Ether moved higher with most top 10 cryptocurrencies. Solana led the winners as its trading volume more than doubled in the past 24 hours. Dogecoin led the losers as the meme token lost some steam after gaining over 11% for the week. The Forkast 500 NFT index traded flat and U.S. equity futures were mixed, reflecting the same performance on Wall Street on Wednesday. Bitcoin rose 0.90% in the last 24 hours to US$29,459 as of 07:15 a.m. in Hong Kong, but was still down 1.37% for the week, according to data from CoinMarketCap. The world’s largest cryptocurrency briefly breached US$29,600 early Thursday morning. Ether moved up 0.88% to US$1,874, but remained 0.68% lower for the seven-day period. The marginal gains followed the Fed’s decision to raise benchmark lending rates in the U.S. to between 5.25% and 5.50%, the highest in 22 years, to slow inflation. In a press conference, Fed Chair Jerome Powell said another rate hike in September is possible, but said decisions will be determined by the data at the time. “An interesting time for crypto markets although you wouldn’t be able to tell when looking at the price action. With macro markets timidly risk-on, BTC and ETH rose slightly to recoup levels lost earlier this week,” said Justin d’Anethan, head of APAC business development at Belgium-based crypto market maker Keyrock. With the exception of Dogecoin, all other top 10 non-stablecoin cryptocurrencies traded higher in the past 24 hours. Solana’s SOL led the winners, jumping 9.51% to US$25.35, but still sitting on a 3.80% loss for the full week.',\n",
       "  'Please try another search Benzinga - Australian actress Margot Robbie, the Barbie actress, sparked intrigue after her comments about Bitcoin (CRYPTO: BTC), the world\\'s largest cryptocurrency by market capitalization.  What Happened: Robbie, in an interview with Fandango on June 22, drew comparisons between the digital currency and Ken, the iconic fictional character and Barbie’s well-known companion.  While on set, Robbie revealed that she observed her husband, Tom Ackerley, and television producer David Heyman engaging in discussions about Bitcoin. These conversations reminded her of the traits displayed by Ken, the fictional co-star character in Barbie, played by Ryan Gosling. In Robbie’s view, the conversations surrounding Bitcoin seemed to mirror the persona of Ken, prompting her and her colleague, Gretta, to refer to them as “being such Kens.” MicroStrategy CEO Michael Saylor on Sunday shared the video on X and said, \"Bitcoin is Big Ken Energy.\"  — Michael Saylor⚡️ (@saylor) July 28, 2023  See More: A Stay At The Floating Palace From James Bond\\'s ‘Octopussy’ What Is Ken Energy:  During an interview with Yahoo Entertainment, Ryan Gosling took a step back when asked about the concept of “Ken Energy”. Instead, he turned to Robbie for assistance in explaining the term. Robbie, meanwhile, acknowledged the challenge of articulating “Ken Energy” and provided some context to its meaning. She explained that it is somewhat of a play on the acronym BDE, or “big d**k energy.\" Understanding the significance of Barbie and Ken in popular culture is essential to grasp the context of Robbie’s statement. Barbie, a doll created by Mattel, has been an iconic figure for generations, symbolizing fashion and beauty. Ken, her fictional companion, often portrays a supportive and stylish partner for Barbie. Price Action: At the time of writing, BTC was trading at $29,418 up 0.31% in',\n",
       "  'In another day of crypto market drudgery, bitcoin (BTC) briefly feinted higher Friday before settling back into its increasingly familiar environs below $30,000. The largest digital asset by market capitalization was recently trading at $29,904, up 0.3%. Ether (ETH), the second largest cryptocurrency, remained largely unfazed during the day, lingering at around its weekly low below $1,900. Major alternative cryptocurrencies – so-called altcoins – including SOL and XRP recovered some of their losses endured earlier in the day. MKR, governance token of decentralized finance lender MakerDAO, defied the broader market and enjoyed double-digit gains, buoyed by the activation of a token buyback program. But micro-cap token CNC cratered as much as 75% during the day following a 1,700 ETH – some $3.2 million – exploit of Conic Finance, a Curve-adjacent decentralized finance protocol. The CoinDesk Market Index, which tracks the performance of a basket of digital assets, inched up 0.3% in the last 24 hours, underscoring a somewhat tepid trading day. Investors will be eyeing a likely Federal Reserve interest rate increase and bitcoin options expiry next week. Read more: Bitcoin, Ether Headed Toward Losing Months in Usually Upbeat July In an email, Rachel Lin, CEO and co-founder of decentralized derivatives exchange SynFutures noted that the week started with enthusiasm over a favorable ruling in the Ripple-SEC case as investors expressed hopes for an altcoin season. But BTC and ETH failed to break resistance and returned to their weekly range lows, weighing on the market. “[Bitcoin] options data reveal high open interest in $31,000 and $32,000 Call Options, denoting strong resistance at these levels,” Lin said. “The past day has been more favorable, with call options trading nearly 3x the volume of put options.” “Fundamentally, the outlook remains bullish as money continues to flow into the crypto ecosystem,” she added.',\n",
       "  'Stocks of crypto companies fell Tuesday after a US judge said digital currencies can be considered securities when sold to the general public, contradicting an earlier ruling from a judge in a separate case. The decision bolstered the view of the Securities and Exchange Commission, which is the plaintiff in both cases. The US regulator has argued certain cryptocurrencies are securities and therefore should be overseen by the SEC, using that assertion as the basis for several lawsuits against major industry players. US crypto exchange Coinbase Global (COIN), which faces one such lawsuit from the SEC, dropped as much as 8.5% Tuesday. The price of bitcoin (BTC-USD) also fell below $29,000. The new decision that upended stocks came from US Judge Jed Rakoff in the Southern District of New York, who opposed an earlier ruling from Analisa Torres, another judge in the same US district court. Torres had concluded in mid July that the XRP digital token issued by Ripple Labs was a security only when it was sold to institutional investors, and not when it was purchased by the general public. Rakoff disagreed with that specific view in his case, in which the SEC has alleged stablecoin issuer Terraform Labs sold unregistered securities. \"The Court rejects the approach recently adopted by another judge of this District,\" he wrote. The disagreement was a blow to some in the crypto world who had hailed the earlier ruling from Torres. \"Well, it was a fun few weeks,\" Gabriel Shapiro, general counsel for digital asset research and consulting firm Delphi Labs. The chief legal officer of Ripple Labs, Stuart Alderoty, said in a tweet that the new ruling from Rakoff \"changes NOTHING about the Ripple ruling that XRP is not a security.\" The contradictory rulings makes the regulatory clarity surrounding most cryptocurrencies as',\n",
       "  'The SEC asked Coinbase to delist every cryptocurrency except bitcoin before suing the exchange. Armstrong told the Financial Times the SEC recommendation left us no choice but to head to court. The U.S. Securities and Exchange Commission (SEC) had asked Coinbase (COIN) to stop trading in all cryptocurrencies other than bitcoin (BTC) prior to suing the crypto exchange, according to a Financial Times report, citing Coinbase CEO Brian Armstrong. The SEC told the FT its enforcement division did not make formal requests for “companies to delist crypto assets.” “In the course of an investigation, the staff may share its own view as to what conduct may raise questions for the commission under the securities laws,” it added, according to the FT report. SEC Chair Gary Gensler, the four SEC commissioners and SEC staff have had different opinions on matters and don\\'t necessarily reflect the institution\\'s position unless expressed as so. “The interview as published earlier today by the Financial Times omitted critical context regarding our conversations with the SEC in the U.S.,\" a Coinbase spokesperson told CoinDesk in an email. \"Whether deliberately or as a result of an oversight, the author implied that the SEC ordered Coinbase to \\'halt all trading of every crypto asset other than Bitcoin.\\' As stated by the SEC itself further in the article, its “enforcement division did not make formal requests for “companies to delist crypto assets”. Coinbase further added that, \"the views shared in the FT article may have represented the views of some staff at the time, but did not represent those of the Commission more broadly. We continue our discussions with the Commission..\" Armstrong told FT that \"the SEC made the recommendation before launching legal action against the Nasdaq-listed company last month for failing to register as a broker,\" the report said.',\n",
       "  \"The Human Rights Foundation (HRF) has launched a bug bounty challenge with a reward of 20 Bitcoin, worth more than $589K at the time of writing, to encourage open-source development on the Bitcoin system. Enhancements to the Bitcoin user experience are the focus of the challenge. Six of the bounties, each worth 2 BTC, are geared at enhancing mobile wallets. Each incentive targets a particular issue that Bitcoin is now facing. These bounties, which were inspired by discussions with international activists and are features that many would like to see added to Bitcoin, are being financially supported by the HRF's Bitcoin Development Fund. The bounties include the capacity to produce and memorize seed phrases while crossing borders, increasing and supporting Nostr development, and open-source design components for Bitcoin projects. The HRF sees the financial flexibility provided by Bitcoin as an important component of the fight for human rights, as it enables human rights advocates to continue their work. Through the end of this year and 2024, the bounties will be active.\"],\n",
       " 'ZI': ['LONDON, UK / ACCESSWIRE / July 24, 2023 / InterContinental Hotels Group PLC (the Company) (NYSE:IHG)(LSE:IHG)(OTC PINK:ICHGF) The Company announces that on 21 July 2023 it purchased the following number of its ordinary shares of 20340/399 pence each through Goldman Sachs International (\"GSI\") on the London Stock Exchange in accordance with the authority granted by shareholders at the Company\\'s Annual General Meeting on 5 May 2023 (the \"Purchase\"). The Purchase was effected pursuant to instructions issued by the Company on 21 February 2023, as announced on 21 February 2023. Date of purchase: 21 July 2023 Aggregate number of ordinary shares purchased: 973 Lowest price paid per share: £ 55.7800 Highest price paid per share: £ 56.1800 Average price paid per share: £ 56.0615 The Company intends to cancel the purchased shares. Following the above transaction, the Company has 168,133,260 ordinary shares in issue (excluding 7,506,782 held in treasury). A full breakdown of the individual purchases by GSI is included below. Enquiries to: InterContinental Hotels Group PLC: Investor Relations: Stuart Ford (+44 (0)7823 828 739); Aleksandar Milenkovic (+44 (0)7469 905 720); Joe Simpson (+44 (0)7976 862 072) Media Relations: Mike Ward (+44 (0)7795 257 407) Schedule of Purchases Shares purchased: 973 (ISIN: GB00BHJYC057) Date of purchases: 21 July 2023 Investment firm: GSI Aggregated information: London Stock Exchange Cboe BXE Cboe CXE Turquoise Number of ordinary shares purchased 973 Highest price paid (per ordinary share) £ 56.1800 Lowest price paid (per ordinary share) £ 55.7800 Volume weighted average price paid(per ordinary share) £ 56.0615 Detailed information: Transaction Date Time Time Zone Volume Price (GBP) Trading Venue Transaction ID 21/07/2023 09:08:55 BST 29 55.7800 XLON 809035079095511 21/07/2023 09:46:33 BST 32 56.0400 XLON 809035079097158 21/07/2023 09:52:22 BST 39 55.9200 XLON 809035079097523 21/07/2023 10:33:25 BST 52 55.9600 XLON 809035079100336 21/07/2023 10:59:09 BST 47 56.0200 XLON',\n",
       "  'Investing.com -- ZoomInfo Technologies Inc. (NASDAQ:ZI) stock fell as much as 20% in early Tuesday trading after the company\\'s revenue guidance for the third quarter was weaker than expected. The company, which makes a cloud-based platform for sales and marketing, reported adjusted earnings per share of 26 cents on revenue of $308.6 million, up 16%. Analysts expected earnings of 23 cents a share on revenue of $310.94M. Shares were down 19% in after-hours trading and are down about 15% so far this year. For the third quarter, the company sees adjusted earnings per share in the range of 24 cents to 25 cents and revenue of $309M to $312M, which would be below consensus for $325.7M. For the full year, ZoomInfo sees adjusted earnings per share of 99 cents to $1 and revenue of $1.225 billion to $1.235 billion, a downward revision from prior guidance. The company also said its board approved an additional share repurchase of $500M. Following a weak Q2 earnings report, Deutsche Bank analysts downgraded the stock to Hold from Buy with a price target also cut by $11 to $20 per share. \"We downgrade shares of ZoomInfo to Hold from Buy following disappointing 2Q results that largely suffered from further deterioration and down selling within the tech customer vertical. While we are implicitly closer to a bottom and lowered FY23 guidance embeds further deterioration, we are concerned by management\\'s persistent lack of visibility and a multiple (based on AH trading) that is not without downside risk,\" the analysts said in a client note. BofA analysts cut the price target by $2 to $28 per share on the Neutral-rated ZI stock. \"It will likely take several quarters of consistent execution to drive improving investor sentiment,\" they said in a note. Additional reporting by Senad Karaahmetovic Related Articles',\n",
       "  'In Tuesday’s trading session, the euro experienced a pullback, raising questions about the potential strength of the US dollar and whether this is a temporary retracement. Market participants are closely monitoring the situation, especially as the Federal Reserve meeting later this week could introduce heightened volatility. This article delves into the current state of the euro and its potential trajectory in light of these market dynamics. The euro’s recent pullback has placed the spotlight on the critical psychological support level at 1.10. Previous price action has demonstrated the significant influence this level holds over the euro’s direction. As traders weigh their options, this support area is likely to attract value hunters seeking opportunities to capitalize on what they perceive as “cheap euros.” If these traders reenter the market, it may lead to a push towards the formidable resistance zone at 1.1250. Should the euro breach the 1.1250 resistance level decisively, it could pave the way for further gains towards the 1.15 mark. Such a scenario might trigger a “fear of missing out” sentiment among traders, prompting them to jump on board the upward trend. However, market participants must exercise caution, given the anticipated volatility introduced by the impending Federal Reserve meeting. The Federal Reserve’s decisions have historically had a substantial impact on the euro-dollar relationship. Often referred to as the “anti-dollar,” the euro tends to weaken when the US dollar gains strength and vice versa. With both central banks playing a crucial role in shaping their respective currencies, market noise has intensified, and volatility is expected to remain high in the foreseeable future. Given the heightened market turbulence, traders should exercise prudence in their position sizing. The unpredictable nature of the euro’s near-term trajectory suggests that initiating short positions might be less favorable. Instead, market participants are focusing on identifying',\n",
       "  'Bitcoin gained Thursday morning in Asia, but not enough to break through resistance at US$29,500 after the Federal Reserve raised interest rates by the expected quarter point. The bank left the door open for another increase in September. Ether moved higher with most top 10 cryptocurrencies. Solana led the winners as its trading volume more than doubled in the past 24 hours. Dogecoin led the losers as the meme token lost some steam after gaining over 11% for the week. The Forkast 500 NFT index traded flat and U.S. equity futures were mixed, reflecting the same performance on Wall Street on Wednesday. Bitcoin rose 0.90% in the last 24 hours to US$29,459 as of 07:15 a.m. in Hong Kong, but was still down 1.37% for the week, according to data from CoinMarketCap. The world’s largest cryptocurrency briefly breached US$29,600 early Thursday morning. Ether moved up 0.88% to US$1,874, but remained 0.68% lower for the seven-day period. The marginal gains followed the Fed’s decision to raise benchmark lending rates in the U.S. to between 5.25% and 5.50%, the highest in 22 years, to slow inflation. In a press conference, Fed Chair Jerome Powell said another rate hike in September is possible, but said decisions will be determined by the data at the time. “An interesting time for crypto markets although you wouldn’t be able to tell when looking at the price action. With macro markets timidly risk-on, BTC and ETH rose slightly to recoup levels lost earlier this week,” said Justin d’Anethan, head of APAC business development at Belgium-based crypto market maker Keyrock. With the exception of Dogecoin, all other top 10 non-stablecoin cryptocurrencies traded higher in the past 24 hours. Solana’s SOL led the winners, jumping 9.51% to US$25.35, but still sitting on a 3.80% loss for the full week.',\n",
       "  \"Today we're going to take a look at the well-established Adobe Inc. (NASDAQ:ADBE). The company's stock saw a significant share price rise of over 20% in the past couple of months on the NASDAQGS. With many analysts covering the large-cap stock, we may expect any price-sensitive announcements have already been factored into the stock’s share price. However, could the stock still be trading at a relatively cheap price? Today I will analyse the most recent data on Adobe’s outlook and valuation to see if the opportunity still exists.  View our latest analysis for Adobe  According to my valuation model, Adobe seems to be fairly priced at around 7.89% above my intrinsic value, which means if you buy Adobe today, you’d be paying a relatively reasonable price for it. And if you believe the company’s true value is $490.18, then there isn’t really any room for the share price grow beyond what it’s currently trading. Although, there may be an opportunity to buy in the future. This is because Adobe’s beta (a measure of share price volatility) is high, meaning its price movements will be exaggerated relative to the rest of the market. If the market is bearish, the company’s shares will likely fall by more than the rest of the market, providing a prime buying opportunity. Future outlook is an important aspect when you’re looking at buying a stock, especially if you are an investor looking for growth in your portfolio. Although value investors would argue that it’s the intrinsic value relative to the price that matter the most, a more compelling investment thesis would be high growth potential at a cheap price. With profit expected to grow by 62% over the next couple of years, the future seems bright for Adobe. It looks like higher cash flow\",\n",
       "  'WILMINGTON, Mass. & BEAVERTON, Ore., July 26, 2023--(BUSINESS WIRE)--Analog Devices, Inc. (Nasdaq: ADI), a global semiconductor leader, today celebrated its more than $1 billion investment to expand its semiconductor wafer fab in Beaverton, Oregon. The Beaverton site, built in 1978, is ADI’s largest wafer fabrication facility by volume and serves customers in critical industries, such as industrial, automotive, communications, consumer, and healthcare. This press release features multimedia. View the full release here: https://www.businesswire.com/news/home/20230726603504/en/ Ribbon-cutting ceremony to celebrate ADI\\'s more than $1 billion investment to expand its semiconductor wafer fab in Beaverton, Oregon. Pictured left to right: Vincent Roche, ADI’s CEO and Chair and Vivek Jain, ADI\\'s Executive Vice President, Global Operations & Technology. (Photo: Business Wire) The facility investment expands cleanroom space to about 118,000 sq-ft and nearly doubles internal manufacturing of products running on the 180-nanometer technology node and above. It is also expected to create hundreds of new, long-term employment opportunities, a significant increase to ADI’s current roughly 950 employees in Oregon. More than 10% of the total investment is for new, state-of-the-art fab tools intended to increase overall efficiency and utilize chemistries that are more environmentally friendly. Despite nearly doubling production output, the facility is targeting to reduce absolute greenhouse gas emissions by approximately 75% and water usage per production unit by approximately 50%. \"By expanding ADI’s Beaverton facility, we are increasing our production capacity in critical industries, boosting domestic manufacturing in line with the vision of the CHIPS Act, and enhancing the global resiliency of ADI’s hybrid manufacturing model,\" said Vincent Roche, ADI’s CEO and Chair. \"While our investment in Beaverton will facilitate these goals, they will be achieved through the incredible dedication and talent of ADI\\'s existing workforce and further tapping into Oregon\\'s strong talent pool.\" Commenting on the announcement, U.S. Senator Ron Wyden of',\n",
       "  \"Chicago, IL – July 31, 2023 – Stocks in this week’s article are lululemon athletica LULU, Coca Cola Femsa KOF, Hilton Worldwide HLT, Super Micro Computer SMCI and ServiceNow NOW. Irrespective of whether it is a start-up or a well-known company, earnings growth is the main priority for any organization. This is because if the company doesn't make money, it won't last in the long run. So, what's earnings growth? Study a company's revenues over a given period, subtract the production cost, and you have earnings. By the way, this is also considered the most important variable influencing the share price. But, expectations of earnings play a noteworthy role. Frequently, we have seen a decline in the stock price despite earnings growth and a rally in price following an earnings decline. This is largely the result of a company's earnings failing to meet market expectations. Earnings estimates embody analysts' opinions on factors such as sales growth, product demand, competitive industry environment, profit margins, and cost control. Thus, earnings estimates serve as a valuable tool, while making investment decisions. Earnings estimates also help analysts assess the cash flow to determine the fair value of a firm. Thus, investors should be on the lookout for stocks ready to make a big move. Hence, investors need to buy stocks with historical earnings growth and are seeing a rise in quarterly and annual earnings estimates. The above criteria narrowed down the universe of around 7,839 stocks to only 29. Here are the top five stocks that stand out: lululemon athletica is a yoga-inspired athletic apparel company that creates lifestyle components. The company has a Zacks Rank #2 (Buy). LULU's expected earnings growth rate for the current year is 18.4%. You can see the complete list of today's Zacks #1 Rank (Strong Buy) stocks here.\",\n",
       "  \"Significantly high institutional ownership implies ZoomInfo Technologies' stock price is sensitive to their trading actions A total of 10 investors have a majority stake in the company with 51% ownership Ownership research along with  analyst forecasts data  help provide a good understanding of opportunities in a stock Every investor in ZoomInfo Technologies Inc. (NASDAQ:ZI) should be aware of the most powerful shareholder groups. And the group that holds the biggest piece of the pie are institutions with 65% ownership. In other words, the group stands to gain the most (or lose the most) from their investment into the company. Since institutional have access to huge amounts of capital, their market moves tend to receive a lot of scrutiny by retail or individual investors. Therefore, a good portion of institutional money invested in the company is usually a huge vote of confidence on its future. In the chart below, we zoom in on the different ownership groups of ZoomInfo Technologies.  See our latest analysis for ZoomInfo Technologies  Institutions typically measure themselves against a benchmark when reporting to their own investors, so they often become more enthusiastic about a stock once it's included in a major index. We would expect most companies to have some institutions on the register, especially if they are growing. As you can see, institutional investors have a fair amount of stake in ZoomInfo Technologies. This suggests some credibility amongst professional investors. But we can't rely on that fact alone since institutions make bad investments sometimes, just like everyone does. When multiple institutions own a stock, there's always a risk that they are in a 'crowded trade'. When such a trade goes wrong, multiple parties may compete to sell stock fast. This risk is higher in a company without a history of growth. You\",\n",
       "  '© 2023 - Privacy - Terms',\n",
       "  'Wedgewood Partners, an investment management company, released its \"Wedgewood Partners Large Cap Focused Growth Fund\" second quarter 2023 investor letter. A copy of the same can be downloaded here. In the second quarter, Wedgewood Composite’s net return was 8.1% compared to the Standard & Poor’s 8.7%, Russell 1000 Growth Index’s 12.8%, and Russell 1000 Value Index’s 4.1% return for the same period. In addition, you can check the top 5 holdings of the fund to know its best picks in 2023. Wedgewood Partners Large Cap Focused Growth Fund highlighted stocks like PayPal Holdings, Inc. (NASDAQ:PYPL) in the second quarter 2023 investor letter. Headquartered in San Jose, California, PayPal Holdings, Inc. (NASDAQ:PYPL) is a technology platform that enables digital payments. On July 19, 2023, PayPal Holdings, Inc. (NASDAQ:PYPL) stock closed at $74.22 per share. One-month return of PayPal Holdings, Inc. (NASDAQ:PYPL) was 8.24%, and its shares lost 10.31% of their value over the last 52 weeks. PayPal Holdings, Inc. (NASDAQ:PYPL) has a market capitalization of $83.8 billion. Wedgewood Partners Large Cap Focused Growth Fund made the following comment about PayPal Holdings, Inc. (NASDAQ:PYPL) in its second quarter 2023 investor letter: \"PayPal Holdings, Inc. (NASDAQ:PYPL) was the leading detractor from performance during the quarter. Total payment volume grew +12% (foreign exchange neutral) while revenues grew +10% (FX-neutral) and adjusted operating earnings grew +19%. E-commerce industry sales trends have normalized back to their pre-pandemic trend of growth, with high-margin branded payments keeping track with the industry. Despite this, investors were concerned PayPal\\'s fast growing, private label payments solutions will dilute Company returns. However, payments are a very scalable business, and we expect the Company will be able to manage both private label and branded to achieve attractive returns and double-digit growth. Although multiples in the payment industry have compressed, especially after the multi-year',\n",
       "  'NEW YORK, July 14, 2023--(BUSINESS WIRE)--Lemonade, Inc. (NYSE: LMND) today announced it will release its second quarter 2023 financial results on Wednesday, August 2, 2023 after market close. Lemonade will host a conference call the following day, Thursday, August 3, 2023 at 8:00 am Eastern time (5:00 am Pacific time) to discuss the results. To register for this conference call, please use this link. Registrants will receive confirmation with dial-in details. Registrants may also dial in, toll-free, at +1 833 470 1428 or at +1 404 975 4839, conference ID 793094 In addition to the dial-in options, shareholders can participate by going to https://app.saytechnologies.com/lemonade-2023-q2 to submit questions to Say prior to the earnings call. The Q&A platform will be open for question submission starting July 27, 2023 at 8:00 am ET. Shareholders will be able to submit and upvote questions until August 2, 2023 at 7:00 pm ET. Shareholders can email support@saytechnologies.com for any support inquiries. A live webcast of the conference call will be available on the Lemonade Investor Relations website, investor.lemonade.com. Following the completion of the call, a replay will also be made available at investor.lemonade.com. About Lemonade Lemonade offers renters, homeowners, car, pet, and life insurance. Powered by artificial intelligence and social impact, Lemonade’s full stack insurance carriers in the US and the EU replace brokers and bureaucracy with bots and machine learning, aiming for zero paperwork and instant everything. A Certified B-Corp, Lemonade gives unused premiums to nonprofits selected by its community, during its annual Giveback. Lemonade is currently available in the United States, Germany, the Netherlands, France, and the UK, and continues to expand globally. Follow @lemonade_inc on Twitter for updates. FORWARD LOOKING STATEMENTS Cautionary Note Regarding Forward-Looking Statements This Press Release contains forward-looking statements within the meaning of the Private Securities Litigation Reform Act']}"
      ]
     },
     "execution_count": 92,
     "metadata": {},
     "output_type": "execute_result"
    }
   ],
   "source": [
    "articles = {ticker:scrape_and_process(cleaned_urls[ticker]) for ticker in stock_tickers}\n",
    "articles"
   ]
  },
  {
   "cell_type": "code",
   "execution_count": 93,
   "metadata": {},
   "outputs": [],
   "source": [
    "def NLP_summarize(articles):\n",
    "    summaries = []\n",
    "    for article in articles:\n",
    "        input_ids = tokenizer.encode(article, return_tensors='pt')\n",
    "        output = model.generate(input_ids, max_length=55, num_beams=5, early_stopping=True)\n",
    "        summary = tokenizer.decode(output[0], skip_special_tokens=True)\n",
    "        summaries.append(summary)\n",
    "    return summaries"
   ]
  },
  {
   "cell_type": "code",
   "execution_count": 94,
   "metadata": {},
   "outputs": [
    {
     "data": {
      "text/plain": [
       "{'PFE': ['Caterpillar, Pfizer, Uber post mixed results. Apple, Amazon due to report second quarter results later this week',\n",
       "  'Innovation Passport awarded for vepdegestrant for locally-advanced breast cancer.',\n",
       "  'All images are copyrighted.',\n",
       "  'Chris Boshoff appointed Chief Oncology Research and Development Officer.',\n",
       "  'Shares are trading at 52-week lows after weight-loss drug failed in trial. Pfizer’s dividend yield stands out as 4.56%',\n",
       "  'BioNTech, Moderna, Radius Health are among the top five stocks to buy.',\n",
       "  'Drugmaker sees full-year revenue in the range of $67 billion to $70 billion.',\n",
       "  'Company is advancing its allogeneic CAR-T cell therapy pipeline. New investor joins Caribou’s Scientific Advisory Board',\n",
       "  'Pfizer, Merck, Vertex, Exelixis, Incyte to report second-quarter results.',\n",
       "  'Drugmaker is expected to report quarterly earnings of $0.60 per share.',\n",
       "  'Data set includes all 16 patients treated in dose escalation. Upsized public offering priced at $6.5 per share with gross proceeds of $125 million'],\n",
       " 'TSLA': ['Netizens ask Elon Musk about phone’s connectivity with Starlink. Tesla CEO’s tweet has already garnered more than 4.7 million views.',\n",
       "  'All images are copyrighted.',\n",
       "  'August is one of the more favorable months for Tesla. EV giant’s momentum seems to have slowed down in July',\n",
       "  'Elon Musk had earlier expressed interest to invest in India. Low-cost electric vehicle would be priced at $24,000 when launched',\n",
       "  'Elon Musk’s vision for the company revolves around a future where cars drive themselves.',\n",
       "  'All images are copyrighted.',\n",
       "  'Have you tried going to Newsround?',\n",
       "  'Elon Musk’s ‘X’ logo unveiled on Twitter on July 24.',\n",
       "  'Warren Buffett’s right-hand man now praises electric car company.',\n",
       "  'All images are copyrighted.',\n",
       "  'Have you tried going to Newsround?'],\n",
       " 'BTC': ['All images are copyrighted.',\n",
       "  'MPCVault to offer self-custody via BTC Proxy protocol.',\n",
       "  'CoinDesk Indicies bitcoin trend indicator puts asset at neutral. Ether, the second-largest cryptocurrency by market value, falls',\n",
       "  'Shares of Microstrategy are up more than 10% this week on speculation.',\n",
       "  'Ether and Bitcoin also fall amid reports of attack on LeetSwap exchange.',\n",
       "  'Fed raises U.S. benchmark lending rate to 5.25% to 5.50%. Solana leads the winners after trading volume more than doubled',\n",
       "  '‘It’s like being such Kens,’ Margot Robbie says. Bitcoin is ‘big Ken Energy,’ MicroStrategy CEO says',\n",
       "  'MKR, CNC plunge on Conic Finance exploit. Bitcoin options expiry next week seen as bullish for crypto market',\n",
       "  'New York judge disagreed with earlier ruling. Ripple Labs says ruling makes regulatory clarity more clear',\n",
       "  'Coinbase CEO says SEC asked it to delist crypto assets. Armstrong says recommendation left ‘no choice but to head to court’',\n",
       "  'bounties will be active through the end of this year.'],\n",
       " 'ZI': ['Purchases by Goldman Sachs International under authority granted by shareholders at Annual General Meeting.',\n",
       "  'Revenue guidance for the third quarter was weaker than expected. Shares are down 15% so far this year',\n",
       "  'The euro has experienced a pullback, raising questions about the strength of the U.S. dollar. Market participants are closely monitoring the situation, especially as the Federal Reserve meeting',\n",
       "  'Fed raises U.S. benchmark lending rate to 5.25% to 5.50%. Solana leads the winners after trading volume more than doubled',\n",
       "  'View our latest analysis for Adobe Could the stock still be trading at a cheap price?',\n",
       "  'ADI to create hundreds of new, long-term jobs in Oregon. Site to nearly double production output, serving customers in critical industries',\n",
       "  'Stocks in this week’s article are lululemon athletica, Coca Cola Femsa, Hilton Worldwide and ServiceNow.',\n",
       "  'Every investor in ZoomInfo Technologies should be aware of the most powerful shareholder groups.',\n",
       "  'All images are copyrighted.',\n",
       "  'Fund’s net return was 8.1% in second quarter 2023. PayPal was detractor from performance during the quarter: Wedgewood',\n",
       "  'Conference call to be held on August 3, 2023 at 8:00 am Eastern time.']}"
      ]
     },
     "execution_count": 94,
     "metadata": {},
     "output_type": "execute_result"
    }
   ],
   "source": [
    "summaries = {ticker:NLP_summarize(articles[ticker]) for ticker in stock_tickers}\n",
    "summaries"
   ]
  },
  {
   "cell_type": "code",
   "execution_count": 95,
   "metadata": {},
   "outputs": [
    {
     "name": "stderr",
     "output_type": "stream",
     "text": [
      "No model was supplied, defaulted to distilbert-base-uncased-finetuned-sst-2-english and revision af0f99b (https://huggingface.co/distilbert-base-uncased-finetuned-sst-2-english).\n",
      "Using a pipeline without specifying a model name and revision in production is not recommended.\n"
     ]
    }
   ],
   "source": [
    "sentiment = pipeline('sentiment-analysis')"
   ]
  },
  {
   "cell_type": "code",
   "execution_count": 96,
   "metadata": {},
   "outputs": [],
   "source": [
    "# !pip install xformers"
   ]
  },
  {
   "cell_type": "code",
   "execution_count": 97,
   "metadata": {},
   "outputs": [
    {
     "data": {
      "text/plain": [
       "[{'label': 'NEGATIVE', 'score': 0.9880996346473694},\n",
       " {'label': 'NEGATIVE', 'score': 0.9959627985954285},\n",
       " {'label': 'NEGATIVE', 'score': 0.9997323155403137},\n",
       " {'label': 'NEGATIVE', 'score': 0.9268648624420166},\n",
       " {'label': 'NEGATIVE', 'score': 0.999359667301178},\n",
       " {'label': 'POSITIVE', 'score': 0.9919583797454834},\n",
       " {'label': 'POSITIVE', 'score': 0.864882230758667},\n",
       " {'label': 'NEGATIVE', 'score': 0.9994691014289856},\n",
       " {'label': 'NEGATIVE', 'score': 0.9241886138916016},\n",
       " {'label': 'NEGATIVE', 'score': 0.9983410835266113},\n",
       " {'label': 'POSITIVE', 'score': 0.9985836744308472}]"
      ]
     },
     "execution_count": 97,
     "metadata": {},
     "output_type": "execute_result"
    }
   ],
   "source": [
    "sentiment(summaries['BTC'])"
   ]
  },
  {
   "cell_type": "code",
   "execution_count": 98,
   "metadata": {},
   "outputs": [
    {
     "data": {
      "text/plain": [
       "{'PFE': [{'label': 'NEGATIVE', 'score': 0.9992376565933228},\n",
       "  {'label': 'POSITIVE', 'score': 0.9437476992607117},\n",
       "  {'label': 'NEGATIVE', 'score': 0.9880996346473694},\n",
       "  {'label': 'POSITIVE', 'score': 0.9966739416122437},\n",
       "  {'label': 'NEGATIVE', 'score': 0.9856473207473755},\n",
       "  {'label': 'POSITIVE', 'score': 0.9992000460624695},\n",
       "  {'label': 'NEGATIVE', 'score': 0.8220949769020081},\n",
       "  {'label': 'POSITIVE', 'score': 0.9980408549308777},\n",
       "  {'label': 'NEGATIVE', 'score': 0.9565234184265137},\n",
       "  {'label': 'NEGATIVE', 'score': 0.9894277453422546},\n",
       "  {'label': 'NEGATIVE', 'score': 0.9935374855995178}],\n",
       " 'TSLA': [{'label': 'NEGATIVE', 'score': 0.9685801267623901},\n",
       "  {'label': 'NEGATIVE', 'score': 0.9880996346473694},\n",
       "  {'label': 'NEGATIVE', 'score': 0.9731018543243408},\n",
       "  {'label': 'NEGATIVE', 'score': 0.9726715087890625},\n",
       "  {'label': 'POSITIVE', 'score': 0.998879611492157},\n",
       "  {'label': 'NEGATIVE', 'score': 0.9880996346473694},\n",
       "  {'label': 'NEGATIVE', 'score': 0.9915708303451538},\n",
       "  {'label': 'POSITIVE', 'score': 0.9670999050140381},\n",
       "  {'label': 'POSITIVE', 'score': 0.9978448152542114},\n",
       "  {'label': 'NEGATIVE', 'score': 0.9880996346473694},\n",
       "  {'label': 'NEGATIVE', 'score': 0.9915708303451538}],\n",
       " 'BTC': [{'label': 'NEGATIVE', 'score': 0.9880996346473694},\n",
       "  {'label': 'NEGATIVE', 'score': 0.9959627985954285},\n",
       "  {'label': 'NEGATIVE', 'score': 0.9997323155403137},\n",
       "  {'label': 'NEGATIVE', 'score': 0.9268648624420166},\n",
       "  {'label': 'NEGATIVE', 'score': 0.999359667301178},\n",
       "  {'label': 'POSITIVE', 'score': 0.9919583797454834},\n",
       "  {'label': 'POSITIVE', 'score': 0.864882230758667},\n",
       "  {'label': 'NEGATIVE', 'score': 0.9994691014289856},\n",
       "  {'label': 'NEGATIVE', 'score': 0.9241886138916016},\n",
       "  {'label': 'NEGATIVE', 'score': 0.9983410835266113},\n",
       "  {'label': 'POSITIVE', 'score': 0.9985836744308472}],\n",
       " 'ZI': [{'label': 'NEGATIVE', 'score': 0.8436133861541748},\n",
       "  {'label': 'NEGATIVE', 'score': 0.9997338652610779},\n",
       "  {'label': 'NEGATIVE', 'score': 0.8222851157188416},\n",
       "  {'label': 'POSITIVE', 'score': 0.9919583797454834},\n",
       "  {'label': 'NEGATIVE', 'score': 0.9992864727973938},\n",
       "  {'label': 'NEGATIVE', 'score': 0.7474432587623596},\n",
       "  {'label': 'NEGATIVE', 'score': 0.9628205895423889},\n",
       "  {'label': 'POSITIVE', 'score': 0.9965654015541077},\n",
       "  {'label': 'NEGATIVE', 'score': 0.9880996346473694},\n",
       "  {'label': 'NEGATIVE', 'score': 0.9984241724014282},\n",
       "  {'label': 'POSITIVE', 'score': 0.9159135818481445}]}"
      ]
     },
     "execution_count": 98,
     "metadata": {},
     "output_type": "execute_result"
    }
   ],
   "source": [
    "scores = {ticker:sentiment(summaries[ticker]) for ticker in stock_tickers}\n",
    "scores"
   ]
  },
  {
   "cell_type": "code",
   "execution_count": 107,
   "metadata": {},
   "outputs": [
    {
     "name": "stdout",
     "output_type": "stream",
     "text": [
      "Chris Boshoff appointed Chief Oncology Research and Development Officer. POSITIVE 0.9966739416122437\n"
     ]
    }
   ],
   "source": [
    "print(summaries['PFE'][3], scores['PFE'][3]['label'], scores['PFE'][3]['score'])\n"
   ]
  },
  {
   "cell_type": "code",
   "execution_count": 108,
   "metadata": {},
   "outputs": [
    {
     "data": {
      "text/plain": [
       "0.9880996346473694"
      ]
     },
     "execution_count": 108,
     "metadata": {},
     "output_type": "execute_result"
    }
   ],
   "source": [
    "scores['BTC'][0]['score']"
   ]
  },
  {
   "cell_type": "code",
   "execution_count": 109,
   "metadata": {},
   "outputs": [
    {
     "data": {
      "text/plain": [
       "{'PFE': ['Caterpillar, Pfizer, Uber post mixed results. Apple, Amazon due to report second quarter results later this week',\n",
       "  'Innovation Passport awarded for vepdegestrant for locally-advanced breast cancer.',\n",
       "  'All images are copyrighted.',\n",
       "  'Chris Boshoff appointed Chief Oncology Research and Development Officer.',\n",
       "  'Shares are trading at 52-week lows after weight-loss drug failed in trial. Pfizer’s dividend yield stands out as 4.56%',\n",
       "  'BioNTech, Moderna, Radius Health are among the top five stocks to buy.',\n",
       "  'Drugmaker sees full-year revenue in the range of $67 billion to $70 billion.',\n",
       "  'Company is advancing its allogeneic CAR-T cell therapy pipeline. New investor joins Caribou’s Scientific Advisory Board',\n",
       "  'Pfizer, Merck, Vertex, Exelixis, Incyte to report second-quarter results.',\n",
       "  'Drugmaker is expected to report quarterly earnings of $0.60 per share.',\n",
       "  'Data set includes all 16 patients treated in dose escalation. Upsized public offering priced at $6.5 per share with gross proceeds of $125 million'],\n",
       " 'TSLA': ['Netizens ask Elon Musk about phone’s connectivity with Starlink. Tesla CEO’s tweet has already garnered more than 4.7 million views.',\n",
       "  'All images are copyrighted.',\n",
       "  'August is one of the more favorable months for Tesla. EV giant’s momentum seems to have slowed down in July',\n",
       "  'Elon Musk had earlier expressed interest to invest in India. Low-cost electric vehicle would be priced at $24,000 when launched',\n",
       "  'Elon Musk’s vision for the company revolves around a future where cars drive themselves.',\n",
       "  'All images are copyrighted.',\n",
       "  'Have you tried going to Newsround?',\n",
       "  'Elon Musk’s ‘X’ logo unveiled on Twitter on July 24.',\n",
       "  'Warren Buffett’s right-hand man now praises electric car company.',\n",
       "  'All images are copyrighted.',\n",
       "  'Have you tried going to Newsround?'],\n",
       " 'BTC': ['All images are copyrighted.',\n",
       "  'MPCVault to offer self-custody via BTC Proxy protocol.',\n",
       "  'CoinDesk Indicies bitcoin trend indicator puts asset at neutral. Ether, the second-largest cryptocurrency by market value, falls',\n",
       "  'Shares of Microstrategy are up more than 10% this week on speculation.',\n",
       "  'Ether and Bitcoin also fall amid reports of attack on LeetSwap exchange.',\n",
       "  'Fed raises U.S. benchmark lending rate to 5.25% to 5.50%. Solana leads the winners after trading volume more than doubled',\n",
       "  '‘It’s like being such Kens,’ Margot Robbie says. Bitcoin is ‘big Ken Energy,’ MicroStrategy CEO says',\n",
       "  'MKR, CNC plunge on Conic Finance exploit. Bitcoin options expiry next week seen as bullish for crypto market',\n",
       "  'New York judge disagreed with earlier ruling. Ripple Labs says ruling makes regulatory clarity more clear',\n",
       "  'Coinbase CEO says SEC asked it to delist crypto assets. Armstrong says recommendation left ‘no choice but to head to court’',\n",
       "  'bounties will be active through the end of this year.'],\n",
       " 'ZI': ['Purchases by Goldman Sachs International under authority granted by shareholders at Annual General Meeting.',\n",
       "  'Revenue guidance for the third quarter was weaker than expected. Shares are down 15% so far this year',\n",
       "  'The euro has experienced a pullback, raising questions about the strength of the U.S. dollar. Market participants are closely monitoring the situation, especially as the Federal Reserve meeting',\n",
       "  'Fed raises U.S. benchmark lending rate to 5.25% to 5.50%. Solana leads the winners after trading volume more than doubled',\n",
       "  'View our latest analysis for Adobe Could the stock still be trading at a cheap price?',\n",
       "  'ADI to create hundreds of new, long-term jobs in Oregon. Site to nearly double production output, serving customers in critical industries',\n",
       "  'Stocks in this week’s article are lululemon athletica, Coca Cola Femsa, Hilton Worldwide and ServiceNow.',\n",
       "  'Every investor in ZoomInfo Technologies should be aware of the most powerful shareholder groups.',\n",
       "  'All images are copyrighted.',\n",
       "  'Fund’s net return was 8.1% in second quarter 2023. PayPal was detractor from performance during the quarter: Wedgewood',\n",
       "  'Conference call to be held on August 3, 2023 at 8:00 am Eastern time.']}"
      ]
     },
     "execution_count": 109,
     "metadata": {},
     "output_type": "execute_result"
    }
   ],
   "source": [
    "summaries"
   ]
  },
  {
   "cell_type": "code",
   "execution_count": 110,
   "metadata": {},
   "outputs": [
    {
     "data": {
      "text/plain": [
       "{'PFE': [{'label': 'NEGATIVE', 'score': 0.9992376565933228},\n",
       "  {'label': 'POSITIVE', 'score': 0.9437476992607117},\n",
       "  {'label': 'NEGATIVE', 'score': 0.9880996346473694},\n",
       "  {'label': 'POSITIVE', 'score': 0.9966739416122437},\n",
       "  {'label': 'NEGATIVE', 'score': 0.9856473207473755},\n",
       "  {'label': 'POSITIVE', 'score': 0.9992000460624695},\n",
       "  {'label': 'NEGATIVE', 'score': 0.8220949769020081},\n",
       "  {'label': 'POSITIVE', 'score': 0.9980408549308777},\n",
       "  {'label': 'NEGATIVE', 'score': 0.9565234184265137},\n",
       "  {'label': 'NEGATIVE', 'score': 0.9894277453422546},\n",
       "  {'label': 'NEGATIVE', 'score': 0.9935374855995178}],\n",
       " 'TSLA': [{'label': 'NEGATIVE', 'score': 0.9685801267623901},\n",
       "  {'label': 'NEGATIVE', 'score': 0.9880996346473694},\n",
       "  {'label': 'NEGATIVE', 'score': 0.9731018543243408},\n",
       "  {'label': 'NEGATIVE', 'score': 0.9726715087890625},\n",
       "  {'label': 'POSITIVE', 'score': 0.998879611492157},\n",
       "  {'label': 'NEGATIVE', 'score': 0.9880996346473694},\n",
       "  {'label': 'NEGATIVE', 'score': 0.9915708303451538},\n",
       "  {'label': 'POSITIVE', 'score': 0.9670999050140381},\n",
       "  {'label': 'POSITIVE', 'score': 0.9978448152542114},\n",
       "  {'label': 'NEGATIVE', 'score': 0.9880996346473694},\n",
       "  {'label': 'NEGATIVE', 'score': 0.9915708303451538}],\n",
       " 'BTC': [{'label': 'NEGATIVE', 'score': 0.9880996346473694},\n",
       "  {'label': 'NEGATIVE', 'score': 0.9959627985954285},\n",
       "  {'label': 'NEGATIVE', 'score': 0.9997323155403137},\n",
       "  {'label': 'NEGATIVE', 'score': 0.9268648624420166},\n",
       "  {'label': 'NEGATIVE', 'score': 0.999359667301178},\n",
       "  {'label': 'POSITIVE', 'score': 0.9919583797454834},\n",
       "  {'label': 'POSITIVE', 'score': 0.864882230758667},\n",
       "  {'label': 'NEGATIVE', 'score': 0.9994691014289856},\n",
       "  {'label': 'NEGATIVE', 'score': 0.9241886138916016},\n",
       "  {'label': 'NEGATIVE', 'score': 0.9983410835266113},\n",
       "  {'label': 'POSITIVE', 'score': 0.9985836744308472}],\n",
       " 'ZI': [{'label': 'NEGATIVE', 'score': 0.8436133861541748},\n",
       "  {'label': 'NEGATIVE', 'score': 0.9997338652610779},\n",
       "  {'label': 'NEGATIVE', 'score': 0.8222851157188416},\n",
       "  {'label': 'POSITIVE', 'score': 0.9919583797454834},\n",
       "  {'label': 'NEGATIVE', 'score': 0.9992864727973938},\n",
       "  {'label': 'NEGATIVE', 'score': 0.7474432587623596},\n",
       "  {'label': 'NEGATIVE', 'score': 0.9628205895423889},\n",
       "  {'label': 'POSITIVE', 'score': 0.9965654015541077},\n",
       "  {'label': 'NEGATIVE', 'score': 0.9880996346473694},\n",
       "  {'label': 'NEGATIVE', 'score': 0.9984241724014282},\n",
       "  {'label': 'POSITIVE', 'score': 0.9159135818481445}]}"
      ]
     },
     "execution_count": 110,
     "metadata": {},
     "output_type": "execute_result"
    }
   ],
   "source": [
    "scores"
   ]
  },
  {
   "cell_type": "code",
   "execution_count": 111,
   "metadata": {},
   "outputs": [
    {
     "data": {
      "text/plain": [
       "{'PFE': ['https://finance.yahoo.com/news/stock-futures-droop-amid-mixed-earnings-after-blazing-july-stock-market-news-today-121511468.html',\n",
       "  'https://finance.yahoo.com/news/arvinas-pfizer-awarded-innovation-passport-203000619.html',\n",
       "  'https://www.google.com/search?q%3Dyahoo%2Bfinance%2BPFE%26tbm%3Dnws%26pccc%3D1',\n",
       "  'https://finance.yahoo.com/news/pfizer-announces-executive-leadership-advance-104500957.html',\n",
       "  'https://finance.yahoo.com/news/earn-500-month-pfizer-stock-120100836.html',\n",
       "  'https://finance.yahoo.com/news/10-best-small-cap-pharma-185609107.html',\n",
       "  'https://finance.yahoo.com/news/pfizer-q2-earnings-snapshot-105818783.html',\n",
       "  'https://finance.yahoo.com/news/caribou-biosciences-announces-25-million-120000433.html',\n",
       "  'https://finance.yahoo.com/news/drug-biotech-stocks-q2-earnings-135800432.html',\n",
       "  'https://finance.yahoo.com/news/earnings-preview-pfizer-pfe-q2-140133393.html',\n",
       "  'https://finance.yahoo.com/news/caribou-biosciences-raises-125m-via-152759589.html'],\n",
       " 'TSLA': ['https://www.livemint.com/technology/gadgets/elon-musk-shares-a-photo-of-testa-phone-boasts-can-be-used-from-mars-11690906528131.html',\n",
       "  'https://www.investors.com/news/tesla-china-rivals-nio-li-auto-xpeng-hot-streak-july-2023-ev-sales/',\n",
       "  'https://finbold.com/heres-the-average-tesla-stock-return-rate-for-august/',\n",
       "  'https://auto.hindustantimes.com/auto/electric-vehicles/tesla-executives-discuss-india-entry-plans-with-countrys-invest-promotion-agency-know-more-41690777125027.html',\n",
       "  'https://www.fool.com/investing/2023/07/31/prediction-this-ai-stock-will-be-1-of-the-top-5-la/',\n",
       "  'https://www.google.com/search?q%3Dyahoo%2Bfinance%2BTSLA%26tbm%3Dnws%26pccc%3D1',\n",
       "  'https://www.barrons.com/articles/nio-li-auto-xpeng-deliveries-tesla-stock-price-eeb6a5a4',\n",
       "  'https://www.moneycontrol.com/news/trends/elon-musk-shares-video-of-x-logo-atop-twitters-hq-in-san-francisco-11058791.html',\n",
       "  'https://finance.yahoo.com/news/charlie-munger-calls-tesla-minor-151242552.html',\n",
       "  'https://www.investors.com/market-trend/stock-market-today/dow-jones-futures-microsoft-tesla-stock-new-buy-points-big-earnings-movers/',\n",
       "  'https://www.barrons.com/articles/toyota-earnings-tesla-stock-df22231b'],\n",
       " 'BTC': ['https://www.google.com/search?q%3Dyahoo%2Bfinance%2BBTC%26tbm%3Dnws%26pccc%3D1',\n",
       "  'https://finance.yahoo.com/news/leading-defi-protocol-btc-proxy-130000091.html',\n",
       "  'https://finance.yahoo.com/news/bitcoin-dips-below-29-2k-223459436.html',\n",
       "  'https://finance.yahoo.com/news/barbies-margot-robbie-bitcoin-says-154521696.html',\n",
       "  'https://finance.yahoo.com/news/bitcoin-ether-little-changed-market-014809631.html',\n",
       "  'https://finance.yahoo.com/news/bitcoin-ether-edge-fed-raises-015856136.html',\n",
       "  'https://uk.investing.com/news/cryptocurrency-news/watch-barbie-star-margot-robbie-thinks-bitcoin-talk-is-typical-ken-behavior-3102298',\n",
       "  'https://finance.yahoo.com/news/bitcoin-dawdles-below-30k-investors-214640218.html',\n",
       "  'https://finance.yahoo.com/news/crypto-stocks-sag-after-us-judge-gives-new-boost-to-sec-174539890.html',\n",
       "  'https://finance.yahoo.com/news/sec-told-coinbase-stop-trading-045627668.html',\n",
       "  'https://finance.yahoo.com/news/human-rights-foundation-launches-bug-031658499.html'],\n",
       " 'ZI': ['https://finance.yahoo.com/news/intercontinental-hotels-group-plc-announces-060000257.html',\n",
       "  'https://finance.yahoo.com/news/zoominfo-shares-fall-missing-revenue-162551893.html',\n",
       "  'https://finance.yahoo.com/news/eur-usd-forecast-euro-continues-140005878.html',\n",
       "  'https://finance.yahoo.com/news/bitcoin-ether-edge-fed-raises-015856136.html',\n",
       "  'https://finance.yahoo.com/news/time-consider-buying-adobe-inc-140022062.html',\n",
       "  'https://finance.yahoo.com/news/analog-devices-invests-more-1-225500104.html',\n",
       "  'https://finance.yahoo.com/news/zacks-com-featured-highlights-lululemon-103100682.html',\n",
       "  'https://finance.yahoo.com/news/65-ownership-shares-zoominfo-technologies-100712647.html',\n",
       "  'https://www.google.com/search?q%3Dyahoo%2Bfinance%2BZI%26tbm%3Dnws%26pccc%3D1',\n",
       "  'https://finance.yahoo.com/news/paypal-holdings-pypl-fell-investors-094217062.html',\n",
       "  'https://finance.yahoo.com/news/lemonade-announce-second-quarter-2023-180800471.html']}"
      ]
     },
     "execution_count": 111,
     "metadata": {},
     "output_type": "execute_result"
    }
   ],
   "source": [
    "cleaned_urls"
   ]
  },
  {
   "cell_type": "code",
   "execution_count": 112,
   "metadata": {},
   "outputs": [],
   "source": [
    "def format_data(summaries, scores, urls):\n",
    "    output = []\n",
    "    for ticker in stock_tickers:\n",
    "        for counter in range(len(summaries[ticker])):\n",
    "            output_this = [\n",
    "                ticker,\n",
    "                summaries[ticker][counter],\n",
    "                scores[ticker][counter]['label'],\n",
    "                scores[ticker][counter]['score'],\n",
    "                urls[ticker][counter]\n",
    "            ]\n",
    "            output.append(output_this)\n",
    "    return output"
   ]
  },
  {
   "cell_type": "code",
   "execution_count": 113,
   "metadata": {},
   "outputs": [
    {
     "data": {
      "text/plain": [
       "[['PFE',\n",
       "  'Caterpillar, Pfizer, Uber post mixed results. Apple, Amazon due to report second quarter results later this week',\n",
       "  'NEGATIVE',\n",
       "  0.9992376565933228,\n",
       "  'https://finance.yahoo.com/news/stock-futures-droop-amid-mixed-earnings-after-blazing-july-stock-market-news-today-121511468.html'],\n",
       " ['PFE',\n",
       "  'Innovation Passport awarded for vepdegestrant for locally-advanced breast cancer.',\n",
       "  'POSITIVE',\n",
       "  0.9437476992607117,\n",
       "  'https://finance.yahoo.com/news/arvinas-pfizer-awarded-innovation-passport-203000619.html'],\n",
       " ['PFE',\n",
       "  'All images are copyrighted.',\n",
       "  'NEGATIVE',\n",
       "  0.9880996346473694,\n",
       "  'https://www.google.com/search?q%3Dyahoo%2Bfinance%2BPFE%26tbm%3Dnws%26pccc%3D1'],\n",
       " ['PFE',\n",
       "  'Chris Boshoff appointed Chief Oncology Research and Development Officer.',\n",
       "  'POSITIVE',\n",
       "  0.9966739416122437,\n",
       "  'https://finance.yahoo.com/news/pfizer-announces-executive-leadership-advance-104500957.html'],\n",
       " ['PFE',\n",
       "  'Shares are trading at 52-week lows after weight-loss drug failed in trial. Pfizer’s dividend yield stands out as 4.56%',\n",
       "  'NEGATIVE',\n",
       "  0.9856473207473755,\n",
       "  'https://finance.yahoo.com/news/earn-500-month-pfizer-stock-120100836.html'],\n",
       " ['PFE',\n",
       "  'BioNTech, Moderna, Radius Health are among the top five stocks to buy.',\n",
       "  'POSITIVE',\n",
       "  0.9992000460624695,\n",
       "  'https://finance.yahoo.com/news/10-best-small-cap-pharma-185609107.html'],\n",
       " ['PFE',\n",
       "  'Drugmaker sees full-year revenue in the range of $67 billion to $70 billion.',\n",
       "  'NEGATIVE',\n",
       "  0.8220949769020081,\n",
       "  'https://finance.yahoo.com/news/pfizer-q2-earnings-snapshot-105818783.html'],\n",
       " ['PFE',\n",
       "  'Company is advancing its allogeneic CAR-T cell therapy pipeline. New investor joins Caribou’s Scientific Advisory Board',\n",
       "  'POSITIVE',\n",
       "  0.9980408549308777,\n",
       "  'https://finance.yahoo.com/news/caribou-biosciences-announces-25-million-120000433.html'],\n",
       " ['PFE',\n",
       "  'Pfizer, Merck, Vertex, Exelixis, Incyte to report second-quarter results.',\n",
       "  'NEGATIVE',\n",
       "  0.9565234184265137,\n",
       "  'https://finance.yahoo.com/news/drug-biotech-stocks-q2-earnings-135800432.html'],\n",
       " ['PFE',\n",
       "  'Drugmaker is expected to report quarterly earnings of $0.60 per share.',\n",
       "  'NEGATIVE',\n",
       "  0.9894277453422546,\n",
       "  'https://finance.yahoo.com/news/earnings-preview-pfizer-pfe-q2-140133393.html'],\n",
       " ['PFE',\n",
       "  'Data set includes all 16 patients treated in dose escalation. Upsized public offering priced at $6.5 per share with gross proceeds of $125 million',\n",
       "  'NEGATIVE',\n",
       "  0.9935374855995178,\n",
       "  'https://finance.yahoo.com/news/caribou-biosciences-raises-125m-via-152759589.html'],\n",
       " ['TSLA',\n",
       "  'Netizens ask Elon Musk about phone’s connectivity with Starlink. Tesla CEO’s tweet has already garnered more than 4.7 million views.',\n",
       "  'NEGATIVE',\n",
       "  0.9685801267623901,\n",
       "  'https://www.livemint.com/technology/gadgets/elon-musk-shares-a-photo-of-testa-phone-boasts-can-be-used-from-mars-11690906528131.html'],\n",
       " ['TSLA',\n",
       "  'All images are copyrighted.',\n",
       "  'NEGATIVE',\n",
       "  0.9880996346473694,\n",
       "  'https://www.investors.com/news/tesla-china-rivals-nio-li-auto-xpeng-hot-streak-july-2023-ev-sales/'],\n",
       " ['TSLA',\n",
       "  'August is one of the more favorable months for Tesla. EV giant’s momentum seems to have slowed down in July',\n",
       "  'NEGATIVE',\n",
       "  0.9731018543243408,\n",
       "  'https://finbold.com/heres-the-average-tesla-stock-return-rate-for-august/'],\n",
       " ['TSLA',\n",
       "  'Elon Musk had earlier expressed interest to invest in India. Low-cost electric vehicle would be priced at $24,000 when launched',\n",
       "  'NEGATIVE',\n",
       "  0.9726715087890625,\n",
       "  'https://auto.hindustantimes.com/auto/electric-vehicles/tesla-executives-discuss-india-entry-plans-with-countrys-invest-promotion-agency-know-more-41690777125027.html'],\n",
       " ['TSLA',\n",
       "  'Elon Musk’s vision for the company revolves around a future where cars drive themselves.',\n",
       "  'POSITIVE',\n",
       "  0.998879611492157,\n",
       "  'https://www.fool.com/investing/2023/07/31/prediction-this-ai-stock-will-be-1-of-the-top-5-la/'],\n",
       " ['TSLA',\n",
       "  'All images are copyrighted.',\n",
       "  'NEGATIVE',\n",
       "  0.9880996346473694,\n",
       "  'https://www.google.com/search?q%3Dyahoo%2Bfinance%2BTSLA%26tbm%3Dnws%26pccc%3D1'],\n",
       " ['TSLA',\n",
       "  'Have you tried going to Newsround?',\n",
       "  'NEGATIVE',\n",
       "  0.9915708303451538,\n",
       "  'https://www.barrons.com/articles/nio-li-auto-xpeng-deliveries-tesla-stock-price-eeb6a5a4'],\n",
       " ['TSLA',\n",
       "  'Elon Musk’s ‘X’ logo unveiled on Twitter on July 24.',\n",
       "  'POSITIVE',\n",
       "  0.9670999050140381,\n",
       "  'https://www.moneycontrol.com/news/trends/elon-musk-shares-video-of-x-logo-atop-twitters-hq-in-san-francisco-11058791.html'],\n",
       " ['TSLA',\n",
       "  'Warren Buffett’s right-hand man now praises electric car company.',\n",
       "  'POSITIVE',\n",
       "  0.9978448152542114,\n",
       "  'https://finance.yahoo.com/news/charlie-munger-calls-tesla-minor-151242552.html'],\n",
       " ['TSLA',\n",
       "  'All images are copyrighted.',\n",
       "  'NEGATIVE',\n",
       "  0.9880996346473694,\n",
       "  'https://www.investors.com/market-trend/stock-market-today/dow-jones-futures-microsoft-tesla-stock-new-buy-points-big-earnings-movers/'],\n",
       " ['TSLA',\n",
       "  'Have you tried going to Newsround?',\n",
       "  'NEGATIVE',\n",
       "  0.9915708303451538,\n",
       "  'https://www.barrons.com/articles/toyota-earnings-tesla-stock-df22231b'],\n",
       " ['BTC',\n",
       "  'All images are copyrighted.',\n",
       "  'NEGATIVE',\n",
       "  0.9880996346473694,\n",
       "  'https://www.google.com/search?q%3Dyahoo%2Bfinance%2BBTC%26tbm%3Dnws%26pccc%3D1'],\n",
       " ['BTC',\n",
       "  'MPCVault to offer self-custody via BTC Proxy protocol.',\n",
       "  'NEGATIVE',\n",
       "  0.9959627985954285,\n",
       "  'https://finance.yahoo.com/news/leading-defi-protocol-btc-proxy-130000091.html'],\n",
       " ['BTC',\n",
       "  'CoinDesk Indicies bitcoin trend indicator puts asset at neutral. Ether, the second-largest cryptocurrency by market value, falls',\n",
       "  'NEGATIVE',\n",
       "  0.9997323155403137,\n",
       "  'https://finance.yahoo.com/news/bitcoin-dips-below-29-2k-223459436.html'],\n",
       " ['BTC',\n",
       "  'Shares of Microstrategy are up more than 10% this week on speculation.',\n",
       "  'NEGATIVE',\n",
       "  0.9268648624420166,\n",
       "  'https://finance.yahoo.com/news/barbies-margot-robbie-bitcoin-says-154521696.html'],\n",
       " ['BTC',\n",
       "  'Ether and Bitcoin also fall amid reports of attack on LeetSwap exchange.',\n",
       "  'NEGATIVE',\n",
       "  0.999359667301178,\n",
       "  'https://finance.yahoo.com/news/bitcoin-ether-little-changed-market-014809631.html'],\n",
       " ['BTC',\n",
       "  'Fed raises U.S. benchmark lending rate to 5.25% to 5.50%. Solana leads the winners after trading volume more than doubled',\n",
       "  'POSITIVE',\n",
       "  0.9919583797454834,\n",
       "  'https://finance.yahoo.com/news/bitcoin-ether-edge-fed-raises-015856136.html'],\n",
       " ['BTC',\n",
       "  '‘It’s like being such Kens,’ Margot Robbie says. Bitcoin is ‘big Ken Energy,’ MicroStrategy CEO says',\n",
       "  'POSITIVE',\n",
       "  0.864882230758667,\n",
       "  'https://uk.investing.com/news/cryptocurrency-news/watch-barbie-star-margot-robbie-thinks-bitcoin-talk-is-typical-ken-behavior-3102298'],\n",
       " ['BTC',\n",
       "  'MKR, CNC plunge on Conic Finance exploit. Bitcoin options expiry next week seen as bullish for crypto market',\n",
       "  'NEGATIVE',\n",
       "  0.9994691014289856,\n",
       "  'https://finance.yahoo.com/news/bitcoin-dawdles-below-30k-investors-214640218.html'],\n",
       " ['BTC',\n",
       "  'New York judge disagreed with earlier ruling. Ripple Labs says ruling makes regulatory clarity more clear',\n",
       "  'NEGATIVE',\n",
       "  0.9241886138916016,\n",
       "  'https://finance.yahoo.com/news/crypto-stocks-sag-after-us-judge-gives-new-boost-to-sec-174539890.html'],\n",
       " ['BTC',\n",
       "  'Coinbase CEO says SEC asked it to delist crypto assets. Armstrong says recommendation left ‘no choice but to head to court’',\n",
       "  'NEGATIVE',\n",
       "  0.9983410835266113,\n",
       "  'https://finance.yahoo.com/news/sec-told-coinbase-stop-trading-045627668.html'],\n",
       " ['BTC',\n",
       "  'bounties will be active through the end of this year.',\n",
       "  'POSITIVE',\n",
       "  0.9985836744308472,\n",
       "  'https://finance.yahoo.com/news/human-rights-foundation-launches-bug-031658499.html'],\n",
       " ['ZI',\n",
       "  'Purchases by Goldman Sachs International under authority granted by shareholders at Annual General Meeting.',\n",
       "  'NEGATIVE',\n",
       "  0.8436133861541748,\n",
       "  'https://finance.yahoo.com/news/intercontinental-hotels-group-plc-announces-060000257.html'],\n",
       " ['ZI',\n",
       "  'Revenue guidance for the third quarter was weaker than expected. Shares are down 15% so far this year',\n",
       "  'NEGATIVE',\n",
       "  0.9997338652610779,\n",
       "  'https://finance.yahoo.com/news/zoominfo-shares-fall-missing-revenue-162551893.html'],\n",
       " ['ZI',\n",
       "  'The euro has experienced a pullback, raising questions about the strength of the U.S. dollar. Market participants are closely monitoring the situation, especially as the Federal Reserve meeting',\n",
       "  'NEGATIVE',\n",
       "  0.8222851157188416,\n",
       "  'https://finance.yahoo.com/news/eur-usd-forecast-euro-continues-140005878.html'],\n",
       " ['ZI',\n",
       "  'Fed raises U.S. benchmark lending rate to 5.25% to 5.50%. Solana leads the winners after trading volume more than doubled',\n",
       "  'POSITIVE',\n",
       "  0.9919583797454834,\n",
       "  'https://finance.yahoo.com/news/bitcoin-ether-edge-fed-raises-015856136.html'],\n",
       " ['ZI',\n",
       "  'View our latest analysis for Adobe Could the stock still be trading at a cheap price?',\n",
       "  'NEGATIVE',\n",
       "  0.9992864727973938,\n",
       "  'https://finance.yahoo.com/news/time-consider-buying-adobe-inc-140022062.html'],\n",
       " ['ZI',\n",
       "  'ADI to create hundreds of new, long-term jobs in Oregon. Site to nearly double production output, serving customers in critical industries',\n",
       "  'NEGATIVE',\n",
       "  0.7474432587623596,\n",
       "  'https://finance.yahoo.com/news/analog-devices-invests-more-1-225500104.html'],\n",
       " ['ZI',\n",
       "  'Stocks in this week’s article are lululemon athletica, Coca Cola Femsa, Hilton Worldwide and ServiceNow.',\n",
       "  'NEGATIVE',\n",
       "  0.9628205895423889,\n",
       "  'https://finance.yahoo.com/news/zacks-com-featured-highlights-lululemon-103100682.html'],\n",
       " ['ZI',\n",
       "  'Every investor in ZoomInfo Technologies should be aware of the most powerful shareholder groups.',\n",
       "  'POSITIVE',\n",
       "  0.9965654015541077,\n",
       "  'https://finance.yahoo.com/news/65-ownership-shares-zoominfo-technologies-100712647.html'],\n",
       " ['ZI',\n",
       "  'All images are copyrighted.',\n",
       "  'NEGATIVE',\n",
       "  0.9880996346473694,\n",
       "  'https://www.google.com/search?q%3Dyahoo%2Bfinance%2BZI%26tbm%3Dnws%26pccc%3D1'],\n",
       " ['ZI',\n",
       "  'Fund’s net return was 8.1% in second quarter 2023. PayPal was detractor from performance during the quarter: Wedgewood',\n",
       "  'NEGATIVE',\n",
       "  0.9984241724014282,\n",
       "  'https://finance.yahoo.com/news/paypal-holdings-pypl-fell-investors-094217062.html'],\n",
       " ['ZI',\n",
       "  'Conference call to be held on August 3, 2023 at 8:00 am Eastern time.',\n",
       "  'POSITIVE',\n",
       "  0.9159135818481445,\n",
       "  'https://finance.yahoo.com/news/lemonade-announce-second-quarter-2023-180800471.html']]"
      ]
     },
     "execution_count": 113,
     "metadata": {},
     "output_type": "execute_result"
    }
   ],
   "source": [
    "formatted_data = format_data(summaries, scores, cleaned_urls)\n",
    "formatted_data"
   ]
  },
  {
   "cell_type": "code",
   "execution_count": 121,
   "metadata": {},
   "outputs": [],
   "source": [
    "import csv"
   ]
  },
  {
   "cell_type": "code",
   "execution_count": 122,
   "metadata": {},
   "outputs": [],
   "source": [
    "titles = [\"Ticker Name\", \"News Summary\", \"Sentiment\", \"Sentiment Rating\", \"News URL\"]\n",
    "# Write data to the CSV file\n",
    "with open('stocksummaries.csv', mode='w', newline='') as f:\n",
    "    csv_writer = csv.writer(f, delimiter=',', quotechar='\"', quoting=csv.QUOTE_MINIMAL)\n",
    "    # Write the titles first\n",
    "    csv_writer.writerow(titles)\n",
    "    # Write the data rows\n",
    "    csv_writer.writerows(formatted_data)"
   ]
  }
 ],
 "metadata": {
  "kernelspec": {
   "display_name": "Stock Research",
   "language": "python",
   "name": "venv"
  },
  "language_info": {
   "codemirror_mode": {
    "name": "ipython",
    "version": 3
   },
   "file_extension": ".py",
   "mimetype": "text/x-python",
   "name": "python",
   "nbconvert_exporter": "python",
   "pygments_lexer": "ipython3",
   "version": "3.10.9"
  },
  "orig_nbformat": 4
 },
 "nbformat": 4,
 "nbformat_minor": 2
}
